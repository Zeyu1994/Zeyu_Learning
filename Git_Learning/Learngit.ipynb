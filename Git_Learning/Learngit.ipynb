{
 "cells": [
  {
   "cell_type": "markdown",
   "metadata": {},
   "source": [
    "交互教程:https://learngitbranching.js.org/ 的配套笔记"
   ]
  },
  {
   "cell_type": "markdown",
   "metadata": {},
   "source": [
    "本地的交互:\n",
    "\n",
    "**基本**:\n",
    "* git status: 查看git状态\n",
    "* git add: 添加新的文件\n",
    "* git commit -m \"提交描述\"\n",
    "    * 对于vi编辑器，按'i'进入输入，'esc'退出输入，‘shift+;’进入命令模式，‘wq!’保存并完成描述\n",
    "* git log: 查看各个commit的哈希\n",
    "\n",
    "**删除文件：**(以test.php为例)\n",
    "1. rm test.php: 删除本地文件\n",
    "2. git rm test.php: 从git中删除\n",
    "3. git commit -m '描述'\n",
    "\n",
    "**与github远程交互:**\n",
    "* git push: 将最新的commit上传\n",
    "* git pull: 将远端文件与本地同步，如果在远端做了更改，那么需要先pull"
   ]
  },
  {
   "cell_type": "markdown",
   "metadata": {},
   "source": [
    "常用的命令:\n",
    "\n",
    "* git commit: 提交HEAD所指的节点\n",
    "    ![](WX20190507-193045@2x.png) \n",
    "* git branch **name**: 创建分枝\n",
    "![](WX20190507-193641@2x.png)\n",
    "提交后:\n",
    "![](WX20190507-194011@2x.png)\n",
    "* git merge **name**: 将head节点与**name**合并\n",
    "![](WX20190507-194145@2x.png)\n",
    "如果用 git checkout bugFix; git merge master， 则bugFix也将移到最新节点\n",
    "* git rebase **name**: 移动head结点，把**name**作为base，获得新的线性关系。\n",
    "![](WX20190507-194808@2x.png)\n",
    "* git checkout **name**： 移动head，其中**hash function**也可以用节点名代替。\n",
    "    * 如果**name**是分支名，则HEAD是该节点，可对该branch进行操作\n",
    "    * 如果**name**只是一个**hash function**，那么并不能进行如revert 和reset的操作。\n",
    "<br>其中可用master^ 或者master~**num**表示向上移动一层/**num**层\n",
    "![](WX20190507-195719@2x.png)\n",
    "* git branch -f **branch** **hash function**: 将**branch**强制移动到哈希数的位置上\n",
    "![](WX20190507-200340@2x.png)\n",
    "* git reset/revert **name**:\n",
    "    * reset是off-line版本: \n",
    "        * 向上移动分支(**name**为移动方向)，因此就和没有提交过一样。\n",
    "        * git reset HEAD^ 来撤回\n",
    "    * revert是on-line版本: \n",
    "        * 用新的更改(commit)来撤销更改。\n",
    "        * git revert HEAD 来撤回(一次)\n",
    "        * revert例子如下，C2'是对C2的撤回，等于C1\n",
    "    ![](WX20190507-202923@2x.png)\n"
   ]
  },
  {
   "cell_type": "markdown",
   "metadata": {},
   "source": [
    "### 更多技巧\n",
    "* git cherry-pick **name1** **name2**...: 在当前HEAD下加入其他节点的复制\n",
    "![](WX20190507-213631@2x.png)\n",
    "* git rebase -i **name**: 从HEAD到**name**间所有节点的交互界面, 可以选择期间一个bugFix版本pick到上一个版本。\n",
    "    * git rebase -i C1<br>\n",
    "      git rebase bugFix master<br>\n",
    "      ![](WX20190507-214137@2x.png)\n",
    "      ![](WX20190507-214211@2x.png)\n"
   ]
  },
  {
   "cell_type": "markdown",
   "metadata": {},
   "source": [
    "## tag and describe \n",
    "* git tag **tagName** **hash function**: 将节点用**tagName**进行命名\n",
    "    * 如果omit**hash**部分，则直接在当前head加入tag \n",
    "* git tag -d **tagname**: 删除该tag\n",
    "    * https://www.jianshu.com/p/208aff2dccdc for more information\n",
    "* git describe **ref**: **ref**可以是任何能被 Git 识别成提交记录的引用，如果你没有指定的话，Git 会以你目前所检出的位置.\n",
    "<br>输出结果是: ```<tag>_<numCommits>_g<hash>```\n",
    "![](WX20190507-225857@2x.png)"
   ]
  },
  {
   "cell_type": "code",
   "execution_count": null,
   "metadata": {},
   "outputs": [],
   "source": []
  }
 ],
 "metadata": {
  "kernelspec": {
   "display_name": "Python 3",
   "language": "python",
   "name": "python3"
  },
  "language_info": {
   "codemirror_mode": {
    "name": "ipython",
    "version": 3
   },
   "file_extension": ".py",
   "mimetype": "text/x-python",
   "name": "python",
   "nbconvert_exporter": "python",
   "pygments_lexer": "ipython3",
   "version": "3.6.5"
  }
 },
 "nbformat": 4,
 "nbformat_minor": 2
}
