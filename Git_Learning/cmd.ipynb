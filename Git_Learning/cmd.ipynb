{
 "cells": [
  {
   "cell_type": "markdown",
   "metadata": {},
   "source": [
    "### 记录使用过的命令行\n",
    "* cd: 进入某一个目录,如:\n",
    "    * cd Desktop/Github/Zeyu_Learning/\n",
    "* ls: 显示目录下的文件\n",
    "* pwd: 当前工作目录\n",
    "* clear: 清空命令窗口\n",
    "* mkdir **name**: 创建一个新的文件夹 \n",
    "* touch **name.name**: 创建一个文件"
   ]
  },
  {
   "cell_type": "code",
   "execution_count": null,
   "metadata": {},
   "outputs": [],
   "source": []
  }
 ],
 "metadata": {
  "kernelspec": {
   "display_name": "Python 3",
   "language": "python",
   "name": "python3"
  },
  "language_info": {
   "codemirror_mode": {
    "name": "ipython",
    "version": 3
   },
   "file_extension": ".py",
   "mimetype": "text/x-python",
   "name": "python",
   "nbconvert_exporter": "python",
   "pygments_lexer": "ipython3",
   "version": "3.6.5"
  }
 },
 "nbformat": 4,
 "nbformat_minor": 2
}
