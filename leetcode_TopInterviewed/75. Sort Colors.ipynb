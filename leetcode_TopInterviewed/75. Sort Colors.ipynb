{
 "cells": [
  {
   "cell_type": "markdown",
   "metadata": {},
   "source": [
    "题目: 对只有三个组成的数组排序(希望只遍历一遍)\n",
    "\n",
    "基本思路:\n",
    "1. 用一个dictionary记录每个数字的边界，每次更新边界。"
   ]
  },
  {
   "cell_type": "code",
   "execution_count": null,
   "metadata": {},
   "outputs": [],
   "source": [
    "class Solution:\n",
    "    def sortColors(self, nums: List[int]) -> None:\n",
    "        \"\"\"\n",
    "        Do not return anything, modify nums in-place instead.\n",
    "        \"\"\"\n",
    "        d = {\n",
    "            0:-1,\n",
    "            1:-1,\n",
    "            2:-1\n",
    "              }\n",
    "        def add(num):\n",
    "            for i in range(num, 3):\n",
    "                d[i] += 1\n",
    "                if i != num and d[i] == d[i - 1]:\n",
    "                    continue\n",
    "                nums[d[i]] = i \n",
    "        for i in range(len(nums)):\n",
    "            add(nums[i])\n",
    "            #print(nums, d)"
   ]
  }
 ],
 "metadata": {
  "kernelspec": {
   "display_name": "Python 3",
   "language": "python",
   "name": "python3"
  },
  "language_info": {
   "codemirror_mode": {
    "name": "ipython",
    "version": 3
   },
   "file_extension": ".py",
   "mimetype": "text/x-python",
   "name": "python",
   "nbconvert_exporter": "python",
   "pygments_lexer": "ipython3",
   "version": "3.6.5"
  }
 },
 "nbformat": 4,
 "nbformat_minor": 2
}
