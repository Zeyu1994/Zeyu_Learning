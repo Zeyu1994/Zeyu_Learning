{
 "cells": [
  {
   "cell_type": "markdown",
   "metadata": {},
   "source": [
    "题目: 插入最小的missing正数<br>\n",
    "要求:O(n)时间, O(1)空间\n",
    "\n",
    "思路：\n",
    "1. 只在一从1开始最小的正数在数列里的存在与否\n",
    "    * 遍历数组，将每个小于数组长度的数放入等于index-1的位置\n",
    "        * 最初答案，用递归实现\n",
    "        * 为了避免list中的重复，终止条件中加入，如果对应位置已经有了正确的数，就不继续替换\n",
    "        ```python\n",
    "        nums[num - 1] == num\n",
    "        ```\n",
    "    * 第二遍遍历，找到第一个和index不对应的数\n"
   ]
  },
  {
   "cell_type": "code",
   "execution_count": null,
   "metadata": {},
   "outputs": [],
   "source": [
    "# 最初答案\n",
    "class Solution:\n",
    "    def firstMissingPositive(self, nums: List[int]) -> int:\n",
    "        l = len(nums)\n",
    "        def switch(num, s):\n",
    "            # do the exchange until find a num > l or <= 0\n",
    "            if num > l or num <= 0 or num == s or nums[num - 1] == num:\n",
    "                return num\n",
    "            else:\n",
    "                k = nums[num - 1]\n",
    "                nums[num - 1] = num\n",
    "                return switch(k, s)\n",
    "            \n",
    "        for index, num in enumerate(nums):\n",
    "            nums[index] = switch(num, index + 1)\n",
    "        for index, num in enumerate(nums):\n",
    "            if num != index + 1:\n",
    "                return index + 1\n",
    "        return l + 1\n"
   ]
  },
  {
   "cell_type": "markdown",
   "metadata": {},
   "source": [
    "改进：\n",
    "\n",
    "1. 可以用while来代替迭代\n",
    "    ```python\n",
    "        def place(self, nums, x):\n",
    "            while x > 0 and x<len(nums)+1 and x != nums[x-1]:\n",
    "                tmp = nums[x-1]\n",
    "                nums[x-1] = x\n",
    "                x = tmp\n",
    "    ```\n",
    "2. 关于变量名:\n",
    "    * 可以用tmp来表示过渡变量"
   ]
  },
  {
   "cell_type": "code",
   "execution_count": 4,
   "metadata": {},
   "outputs": [],
   "source": [
    "class Solution:\n",
    "    def place(self, nums, x):\n",
    "        while x > 0 and x<len(nums)+1 and x != nums[x-1]:\n",
    "            tmp = nums[x-1]\n",
    "            nums[x-1] = x\n",
    "            x = tmp\n",
    "    def firstMissingPositive(self, nums) -> int:\n",
    "        n = len(nums)\n",
    "        for i in range(n):\n",
    "            self.place(nums, nums[i])\n",
    "        for i in range(n):\n",
    "            if nums[i]-1 != i:\n",
    "                return i + 1\n",
    "        return n+1"
   ]
  }
 ],
 "metadata": {
  "kernelspec": {
   "display_name": "Python 3",
   "language": "python",
   "name": "python3"
  },
  "language_info": {
   "codemirror_mode": {
    "name": "ipython",
    "version": 3
   },
   "file_extension": ".py",
   "mimetype": "text/x-python",
   "name": "python",
   "nbconvert_exporter": "python",
   "pygments_lexer": "ipython3",
   "version": "3.6.5"
  }
 },
 "nbformat": 4,
 "nbformat_minor": 2
}
