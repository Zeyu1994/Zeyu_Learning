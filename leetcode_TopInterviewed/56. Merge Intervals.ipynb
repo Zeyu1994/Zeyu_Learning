{
 "cells": [
  {
   "cell_type": "markdown",
   "metadata": {},
   "source": [
    "题目: 给一个区间的集合，合并区间\n",
    "\n",
    "基本思路(初始):\n",
    "1. 用一个hash table来表示所有index的左右情况\n",
    "    * 1是left, 2是right， 如果有多个重叠的左右边界在一点，则相加\n",
    "2. 将所有index进行排序(去重)\n",
    "3. 遍历不重复的index，并且对每个边界的值求和\n",
    "4. 每次求和归0后，则代表左右消除，添加一个interval"
   ]
  },
  {
   "cell_type": "code",
   "execution_count": 42,
   "metadata": {},
   "outputs": [],
   "source": [
    "#  初始思路\n",
    "class Solution:\n",
    "    def merge(self, intervals):\n",
    "        ans = []\n",
    "        left = [i[0] for i in intervals]\n",
    "        right = [i[1] for i in intervals]\n",
    "        # 希望一个数据结构，被备注每个边界是左/右(hash table)\n",
    "        # 排序所有边界\n",
    "        dic = {}\n",
    "        for i in left:\n",
    "            # left = 1, right = -1\n",
    "            dic[i] = dic.get(i, 0) + 1\n",
    "        for i in right:\n",
    "            dic[i] = dic.get(i, 0) + -1 \n",
    "        index = left + right\n",
    "        index.sort()\n",
    "        sums = 0 \n",
    "        pointer = 0\n",
    "        for i, j in enumerate(index):\n",
    "            if i != 0 and index[i - 1]== j:\n",
    "                #去重，每个index只该出现一行\n",
    "                continue\n",
    "            sums += dic[j]\n",
    "            if sums == 0:\n",
    "                ans.append([index[pointer], j])\n",
    "                pointer = i + 1\n",
    "        return ans"
   ]
  },
  {
   "cell_type": "markdown",
   "metadata": {},
   "source": [
    "思路(Sorting from Solution):\n",
    "1. 按左边界排序\n",
    "2. 遍历整个区间集合，如果独立(merged[-1][1] < interval[0])，那么直接放入merged。\n",
    "3. 如果重叠，则合并。max(merged[-1][1], interval[1])\n",
    "\n",
    "复杂度 O(n log(n))"
   ]
  },
  {
   "cell_type": "code",
   "execution_count": 70,
   "metadata": {},
   "outputs": [],
   "source": [
    "class Solution:\n",
    "    def merge(self, intervals):\n",
    "        intervals.sort(key=lambda x: x[0])\n",
    "\n",
    "        merged = []\n",
    "        for interval in intervals:\n",
    "            # if the list of merged intervals is empty or if the current\n",
    "            # interval does not overlap with the previous, simply append it.\n",
    "            if not merged or merged[-1][1] < interval[0]:\n",
    "                merged.append(interval)\n",
    "            else:\n",
    "            # otherwise, there is overlap, so we merge the current and previous\n",
    "            # intervals.\n",
    "                merged[-1][1] = max(merged[-1][1], interval[1])\n",
    "\n",
    "        return merged"
   ]
  },
  {
   "cell_type": "code",
   "execution_count": 55,
   "metadata": {},
   "outputs": [
    {
     "data": {
      "text/plain": [
       "[[1, 6], [8, 10], [15, 18]]"
      ]
     },
     "execution_count": 55,
     "metadata": {},
     "output_type": "execute_result"
    }
   ],
   "source": [
    "test = [[1,3],[1,6],[8,10],[15,18]]\n",
    "\n",
    "h = Solution()\n",
    "h.merge(test)"
   ]
  },
  {
   "cell_type": "code",
   "execution_count": 68,
   "metadata": {},
   "outputs": [],
   "source": [
    "test = [[1,3],[8,10],[1,6],[15,18], [1,19]]\n",
    "test.sort(key=lambda x: x[0])"
   ]
  }
 ],
 "metadata": {
  "kernelspec": {
   "display_name": "Python 3",
   "language": "python",
   "name": "python3"
  },
  "language_info": {
   "codemirror_mode": {
    "name": "ipython",
    "version": 3
   },
   "file_extension": ".py",
   "mimetype": "text/x-python",
   "name": "python",
   "nbconvert_exporter": "python",
   "pygments_lexer": "ipython3",
   "version": "3.6.5"
  }
 },
 "nbformat": 4,
 "nbformat_minor": 2
}
