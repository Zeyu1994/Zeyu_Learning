{
 "cells": [
  {
   "cell_type": "markdown",
   "metadata": {},
   "source": [
    "题目: 打印二叉树，按从左到右，从上到下，分层\n",
    "\n",
    "基本思路（一）: \n",
    "* dfs, using recursion\n",
    "* bfs, using queue"
   ]
  },
  {
   "cell_type": "code",
   "execution_count": null,
   "metadata": {},
   "outputs": [],
   "source": [
    "# Definition for a binary tree node.\n",
    "# class TreeNode:\n",
    "#     def __init__(self, x):\n",
    "#         self.val = x\n",
    "#         self.left = None\n",
    "#         self.right = None\n",
    "\n",
    "class Solution:\n",
    "    def levelOrder(self, root: 'TreeNode') -> 'List[List[int]]':\n",
    "        ans = []\n",
    "        def dfs(node, depth):\n",
    "            if node == None:\n",
    "                return\n",
    "            if len(ans) <= depth:\n",
    "                ans.append([])\n",
    "            ans[depth].append(node.val)\n",
    "            dfs(node.left, depth + 1)\n",
    "            dfs(node.right, depth + 1)\n",
    "        dfs(root, 0)\n",
    "        return ans"
   ]
  },
  {
   "cell_type": "code",
   "execution_count": null,
   "metadata": {},
   "outputs": [],
   "source": [
    "# using queue\n",
    "#\n",
    "import queue\n",
    "class Solution:\n",
    "    def levelOrder(self, root: 'TreeNode') -> 'List[List[int]]':\n",
    "        ans = []\n",
    "        q = queue.Queue()\n",
    "        q.put((root, 0))\n",
    "        while not q.empty():\n",
    "            node, depth= q.get()\n",
    "            if node == None:\n",
    "                continue\n",
    "            if len(ans) <= depth:\n",
    "                ans.append([])\n",
    "            ans[depth].append(node.val)\n",
    "            q.put((node.left, depth + 1))\n",
    "            q.put((node.right, depth + 1))\n",
    "        return ans\n",
    "            "
   ]
  }
 ],
 "metadata": {
  "kernelspec": {
   "display_name": "Python 3",
   "language": "python",
   "name": "python3"
  },
  "language_info": {
   "codemirror_mode": {
    "name": "ipython",
    "version": 3
   },
   "file_extension": ".py",
   "mimetype": "text/x-python",
   "name": "python",
   "nbconvert_exporter": "python",
   "pygments_lexer": "ipython3",
   "version": "3.6.5"
  }
 },
 "nbformat": 4,
 "nbformat_minor": 2
}
