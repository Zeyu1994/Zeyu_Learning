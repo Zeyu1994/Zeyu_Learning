{
 "cells": [
  {
   "cell_type": "code",
   "execution_count": null,
   "metadata": {},
   "outputs": [],
   "source": []
  },
  {
   "cell_type": "code",
   "execution_count": null,
   "metadata": {},
   "outputs": [],
   "source": [
    "# Definition for a binary tree node.\n",
    "# class TreeNode:\n",
    "#     def __init__(self, x):\n",
    "#         self.val = x\n",
    "#         self.left = None\n",
    "#         self.right = None\n",
    "\n",
    "class Solution:\n",
    "    # 答案要求先左再右\n",
    "    # 自己写的，先左再右再自己， 后续？\n",
    "    def helper(self, T):\n",
    "        end = T\n",
    "        tmp = T.right\n",
    "        if T.left:\n",
    "            ls, le = self.helper(T.left)\n",
    "            end.right = ls\n",
    "            end = le\n",
    "        if tmp:\n",
    "            rs, re = self.helper(tmp)\n",
    "            end.right = rs\n",
    "            end = re\n",
    "        T.left = None\n",
    "        return (T, end)\n",
    "    def flatten(self, root: TreeNode) -> None:\n",
    "        \"\"\"\n",
    "        Do not return anything, modify root in-place instead.\n",
    "        \"\"\" \n",
    "        if root:\n",
    "            self.helper(root)"
   ]
  }
 ],
 "metadata": {
  "kernelspec": {
   "display_name": "Python 3",
   "language": "python",
   "name": "python3"
  },
  "language_info": {
   "codemirror_mode": {
    "name": "ipython",
    "version": 3
   },
   "file_extension": ".py",
   "mimetype": "text/x-python",
   "name": "python",
   "nbconvert_exporter": "python",
   "pygments_lexer": "ipython3",
   "version": "3.6.5"
  }
 },
 "nbformat": 4,
 "nbformat_minor": 2
}
