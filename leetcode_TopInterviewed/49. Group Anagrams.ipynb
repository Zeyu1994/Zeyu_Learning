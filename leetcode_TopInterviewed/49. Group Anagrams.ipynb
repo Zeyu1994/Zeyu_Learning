{
 "cells": [
  {
   "cell_type": "markdown",
   "metadata": {},
   "source": [
    "题目: 将同字母异续词(anagrams)组成group\n",
    "<br>\n",
    "**注意**: 如\"bob\"和\"boo\"并不算anagrams。\n",
    "\n",
    "基本思路(解法1):\n",
    "* 用tuple(sorted(s))当作key，构建哈希表\n",
    "* return时遍历一遍哈希表并返回\n",
    "* 复杂度O(NKlog(K)),其中K为str的最大长度，N为str个数\n",
    "**注意**： tuple可以当作哈希表的key,而list不行。"
   ]
  },
  {
   "cell_type": "code",
   "execution_count": 3,
   "metadata": {},
   "outputs": [],
   "source": [
    "# 原始版\n",
    "class Solution(object):\n",
    "    def groupAnagrams(self, strs):\n",
    "        ans = {}\n",
    "        for s in strs:\n",
    "            t = tuple(sorted(s))\n",
    "            if t in ans:\n",
    "                ans[t].append(s)\n",
    "            else:\n",
    "                ans[t] = [s]\n",
    "        return [ans[i] for i in ans]"
   ]
  },
  {
   "cell_type": "markdown",
   "metadata": {},
   "source": [
    "解法1改进版：\n",
    "* 用dict.get(key, default = None)取代判断，[]代表key不存在时的值（可读性up）\n",
    "* list(d.values()) 取代for循环"
   ]
  },
  {
   "cell_type": "code",
   "execution_count": null,
   "metadata": {},
   "outputs": [],
   "source": [
    "# 改进版\n",
    "class Solution(object):\n",
    "    def groupAnagrams(self, strs):\n",
    "        d = {}\n",
    "        for w in strs:\n",
    "            key = tuple(sorted(w))\n",
    "            d[key] = d.get(key, []) + [w]\n",
    "        return list(d.values())"
   ]
  },
  {
   "cell_type": "code",
   "execution_count": 5,
   "metadata": {},
   "outputs": [
    {
     "name": "stdout",
     "output_type": "stream",
     "text": [
      "['a', 'c', 'd', 'r']\n",
      "('a', 'c', 'd', 'r')\n"
     ]
    }
   ],
   "source": [
    "s = \"card\"\n",
    "print(sorted(s))\n",
    "print(tuple(sorted(s)))"
   ]
  },
  {
   "cell_type": "markdown",
   "metadata": {},
   "source": [
    "基本思路(解法2):Categorize by Count\n",
    "* 将每个单词映射到一个长度为26的数组\n",
    "    * 数组的长度可用与a的相对长度表示，\n",
    "* 复杂度O(NK)\n",
    "![](https://leetcode.com/problems/group-anagrams/Figures/49_groupanagrams2.png)"
   ]
  },
  {
   "cell_type": "code",
   "execution_count": 9,
   "metadata": {},
   "outputs": [],
   "source": [
    "class Solution:\n",
    "    def groupAnagrams(self, strs):\n",
    "        ans = {}\n",
    "        for s in strs:\n",
    "            count = [0] * 26\n",
    "            for c in s:\n",
    "                count[ord(c) - ord('a')] += 1\n",
    "            key = tuple(count)\n",
    "            ans[key] = ans.get(key, []) + [s]\n",
    "        return list(ans.values())"
   ]
  },
  {
   "cell_type": "code",
   "execution_count": null,
   "metadata": {},
   "outputs": [],
   "source": []
  }
 ],
 "metadata": {
  "kernelspec": {
   "display_name": "Python 3",
   "language": "python",
   "name": "python3"
  },
  "language_info": {
   "codemirror_mode": {
    "name": "ipython",
    "version": 3
   },
   "file_extension": ".py",
   "mimetype": "text/x-python",
   "name": "python",
   "nbconvert_exporter": "python",
   "pygments_lexer": "ipython3",
   "version": "3.6.5"
  }
 },
 "nbformat": 4,
 "nbformat_minor": 2
}
