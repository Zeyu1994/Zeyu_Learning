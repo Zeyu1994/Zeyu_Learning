{
 "cells": [
  {
   "cell_type": "markdown",
   "metadata": {},
   "source": [
    "题目: 合并两个有序数列，用代替的方式。\n",
    "\n",
    "基本思路:\n",
    "1. 从末尾开始，即m+n-1开始一个个放入\n",
    "2. 如果数列1还有剩下的，则直接代替"
   ]
  },
  {
   "cell_type": "code",
   "execution_count": 1,
   "metadata": {},
   "outputs": [],
   "source": [
    "class Solution:\n",
    "        \"\"\"\n",
    "        Do not return anything, modify nums1 in-place instead.\n",
    "        \"\"\"\n",
    "        # best one could be O(n), the simple insert method will be O(mn)\n",
    "        def merge(self, nums1, m, nums2, n):\n",
    "            l1, l2, end = m-1, n-1, m+n-1\n",
    "            while l1 >= 0 and l2 >= 0:\n",
    "                if nums2[l2] > nums1[l1]:\n",
    "                    nums1[end] = nums2[l2]\n",
    "                    l2 -= 1\n",
    "                else:\n",
    "                    nums1[end] = nums1[l1]\n",
    "                    l1 -= 1\n",
    "                end -= 1\n",
    "            if l1 < 0: # if nums2 left\n",
    "                nums1[:l2+1] = nums2[:l2+1]"
   ]
  }
 ],
 "metadata": {
  "kernelspec": {
   "display_name": "Python 3",
   "language": "python",
   "name": "python3"
  },
  "language_info": {
   "codemirror_mode": {
    "name": "ipython",
    "version": 3
   },
   "file_extension": ".py",
   "mimetype": "text/x-python",
   "name": "python",
   "nbconvert_exporter": "python",
   "pygments_lexer": "ipython3",
   "version": "3.6.5"
  }
 },
 "nbformat": 4,
 "nbformat_minor": 2
}
