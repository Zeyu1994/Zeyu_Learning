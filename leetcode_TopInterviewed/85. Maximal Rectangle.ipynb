{
 "cells": [
  {
   "cell_type": "code",
   "execution_count": null,
   "metadata": {},
   "outputs": [],
   "source": [
    "class Solution:\n",
    "    def maximalRectangle(self, matrix: List[List[str]]) -> int:\n",
    "        # 纯Dp, O(n^2)的解法\n",
    "        # stack的话，最简单的就是对于每列，当作单独的最大hist 长方形\n",
    "        if not matrix:\n",
    "            return 0\n",
    "        def hists(rNum, hist):\n",
    "            # create hist base by each row\n",
    "            for cNum, i in enumerate(hist):\n",
    "                if i == 1:\n",
    "                    hist[cNum] = 0\n",
    "                elif i > 1:\n",
    "                    hist[cNum] -= 1\n",
    "                else:\n",
    "                    # i == 0 且 当前值为 1时\n",
    "                    rN = rNum\n",
    "                    while rN < len(matrix) and matrix[rN][cNum] == '1':\n",
    "                        hist[cNum] += 1\n",
    "                        rN += 1\n",
    "            return hist\n",
    "        hist = [0] * len(matrix[0])\n",
    "        ans = 0\n",
    "        for rNum, row in enumerate(matrix):\n",
    "            hist = hists(rNum, hist)\n",
    "            ans = max(self.largestRectangleArea(hist), ans)\n",
    "        return ans\n",
    "    \n",
    "    def largestRectangleArea(self, heights):\n",
    "        heights.append(0)\n",
    "        stack = [-1]\n",
    "        ans = 0\n",
    "        for i in range(len(heights)):\n",
    "            while heights[i] < heights[stack[-1]]:\n",
    "                h = heights[stack.pop()]\n",
    "                w = i - stack[-1] - 1\n",
    "                ans = max(ans, h * w)\n",
    "            stack.append(i)\n",
    "        # \n",
    "        heights.pop()\n",
    "        return ans"
   ]
  }
 ],
 "metadata": {
  "kernelspec": {
   "display_name": "Python 3",
   "language": "python",
   "name": "python3"
  },
  "language_info": {
   "codemirror_mode": {
    "name": "ipython",
    "version": 3
   },
   "file_extension": ".py",
   "mimetype": "text/x-python",
   "name": "python",
   "nbconvert_exporter": "python",
   "pygments_lexer": "ipython3",
   "version": "3.6.5"
  }
 },
 "nbformat": 4,
 "nbformat_minor": 2
}
