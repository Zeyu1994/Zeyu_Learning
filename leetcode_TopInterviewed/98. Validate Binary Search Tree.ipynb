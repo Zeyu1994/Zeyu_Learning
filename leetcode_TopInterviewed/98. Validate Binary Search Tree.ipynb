{
 "cells": [
  {
   "cell_type": "markdown",
   "metadata": {},
   "source": [
    "题目: 验证是否是二叉搜索树\n",
    "\n",
    "![](https://leetcode.com/problems/validate-binary-search-tree/Figures/98/98_not_bst_3.png)\n",
    "\n",
    "\n",
    "基本解法(递归):\n",
    "* 设定上界upper和下界lower\n",
    "    * upper和lower的ge"
   ]
  },
  {
   "cell_type": "code",
   "execution_count": null,
   "metadata": {},
   "outputs": [],
   "source": [
    "# 递归解法, BFS, check every node.\n",
    "class Solution:\n",
    "    def isValidBST(self, root):\n",
    "        \"\"\"\n",
    "        :type root: TreeNode\n",
    "        :rtype: bool\n",
    "        \"\"\"\n",
    "        def helper(node, upper = float(\"inf\"), lower = - float(\"inf\")):\n",
    "            if not node:\n",
    "                return True\n",
    "            val = node.val\n",
    "            # 注意此处不允许相等\n",
    "            if val >= upper or val <= lower:\n",
    "                return False\n",
    "            if not helper(node.left, val, lower):\n",
    "                return False\n",
    "            if not helper(node.right, upper, val):\n",
    "                return False\n",
    "            return True\n",
    "        return helper(root)\n",
    "            "
   ]
  },
  {
   "cell_type": "code",
   "execution_count": null,
   "metadata": {},
   "outputs": [],
   "source": [
    "# 深度优先，stack的应用\n",
    "class Solution:\n",
    "    def isValidBST(self, root):\n",
    "        \"\"\"\n",
    "        :type root: TreeNode\n",
    "        :rtype: bool\n",
    "        \"\"\"\n",
    "        if not root:\n",
    "            return True\n",
    "        # root, upper, lower\n",
    "        stack = [(root, float('inf'), -float('inf'))]\n",
    "        while stack:\n",
    "            root, upper, lower = stack.pop()\n",
    "            if not root:\n",
    "                continue\n",
    "            if root.val <= lower or root.val >= upper:\n",
    "                return False\n",
    "            stack.append((root.left, root.val, lower))\n",
    "            stack.append((root.right, upper, root.val))\n",
    "        return True"
   ]
  },
  {
   "cell_type": "code",
   "execution_count": null,
   "metadata": {},
   "outputs": [],
   "source": [
    "# 错误解法\n",
    "# Definition for a binary tree node.\n",
    "# class TreeNode:\n",
    "#     def __init__(self, x):\n",
    "#         self.val = x\n",
    "#         self.left = None\n",
    "#         self.right = None\n",
    "\n",
    "class Solution:\n",
    "    def dfs(self, Node):\n",
    "        if Node == None:\n",
    "            return True\n",
    "        if (Node.left == None or Node.left.val < Node.val) and (Node.right == None or Node.right.val > Node.val):\n",
    "            return self.dfs(Node.left) and self.dfs(Node.right)\n",
    "        return False \n",
    "    def isValidBST(self, root: TreeNode) -> bool:\n",
    "        return self.dfs(root)"
   ]
  }
 ],
 "metadata": {
  "kernelspec": {
   "display_name": "Python 3",
   "language": "python",
   "name": "python3"
  },
  "language_info": {
   "codemirror_mode": {
    "name": "ipython",
    "version": 3
   },
   "file_extension": ".py",
   "mimetype": "text/x-python",
   "name": "python",
   "nbconvert_exporter": "python",
   "pygments_lexer": "ipython3",
   "version": "3.6.5"
  }
 },
 "nbformat": 4,
 "nbformat_minor": 2
}
