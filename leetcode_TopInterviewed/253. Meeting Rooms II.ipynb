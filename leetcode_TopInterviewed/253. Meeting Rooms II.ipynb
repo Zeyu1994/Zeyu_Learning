{
 "cells": [
  {
   "cell_type": "markdown",
   "metadata": {},
   "source": [
    "[题目](https://leetcode.com/problems/meeting-rooms-ii/): 给出一个会议的时间排列，给出需要的room\n",
    "\n",
    "基本思路:\n",
    "* 以会议开始时间对会议进行排序(intervals.sort(key = lambda x: x[0]), key可用匿名函数)\n",
    "* 建立一个heao queue, 以会议结束时间为key，加入第一个会议\n",
    "* 迭代剩下的会议，如果会议开始时间，\n",
    "    1. **最早结束的room已经结束了**(min heap顶部)，那么就进行poppush\n",
    "    2.  **最早结束的room没有结束**，那么就直接push(加入新的一间room)\n",
    "* min heap的插入和删除都是log(n)（如果heap size是n）, 排序也为n*log(n)\n",
    "* 因此复杂度为 n*log(n)"
   ]
  },
  {
   "cell_type": "code",
   "execution_count": 9,
   "metadata": {},
   "outputs": [],
   "source": [
    "import heapq\n",
    "class Solution(object):\n",
    "    def minMeetingRooms(self, intervals):\n",
    "        \"\"\"\n",
    "        :type intervals: List[List[int]]\n",
    "        :rtype: int\n",
    "        \"\"\"\n",
    "        if not intervals:\n",
    "            return 0\n",
    "        # use min heap where key is ending time of the meeting\n",
    "        intervals.sort(key = lambda x: x[0])\n",
    "        # lambda 是匿名函数, 这里的key是一个输入迭代对象返回key的function  \n",
    "        free_room = []\n",
    "        heapq.heappush(free_room, intervals.pop(0)[1])\n",
    "        for i in intervals:\n",
    "            if free_room[0] <= i[0]:\n",
    "                heapq.heappop(free_room)\n",
    "            heapq.heappush(free_room, i[1])\n",
    "        return len(free_room)"
   ]
  },
  {
   "cell_type": "code",
   "execution_count": 7,
   "metadata": {},
   "outputs": [],
   "source": [
    "a = [i for i in range(10)]\n",
    "sums = lambda i:sum(a[0:i])\n",
    "b = [sums(i) for i in a]"
   ]
  },
  {
   "cell_type": "code",
   "execution_count": 8,
   "metadata": {},
   "outputs": [
    {
     "data": {
      "text/plain": [
       "[0, 0, 1, 3, 6, 10, 15, 21, 28, 36]"
      ]
     },
     "execution_count": 8,
     "metadata": {},
     "output_type": "execute_result"
    }
   ],
   "source": [
    "b"
   ]
  },
  {
   "cell_type": "code",
   "execution_count": null,
   "metadata": {},
   "outputs": [],
   "source": []
  }
 ],
 "metadata": {
  "kernelspec": {
   "display_name": "Python 3",
   "language": "python",
   "name": "python3"
  },
  "language_info": {
   "codemirror_mode": {
    "name": "ipython",
    "version": 3
   },
   "file_extension": ".py",
   "mimetype": "text/x-python",
   "name": "python",
   "nbconvert_exporter": "python",
   "pygments_lexer": "ipython3",
   "version": "3.6.5"
  }
 },
 "nbformat": 4,
 "nbformat_minor": 2
}
