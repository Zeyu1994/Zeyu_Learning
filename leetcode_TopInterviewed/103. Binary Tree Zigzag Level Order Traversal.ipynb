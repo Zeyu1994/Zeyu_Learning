{
 "cells": [
  {
   "cell_type": "markdown",
   "metadata": {},
   "source": [
    "题目: 用zigzag的方式来打印树\n",
    "    \n",
    "基本思路:\n",
    "* 和题102没什么两样，在需要逆转时用insert插入list"
   ]
  },
  {
   "cell_type": "code",
   "execution_count": null,
   "metadata": {},
   "outputs": [],
   "source": [
    "# Definition for a binary tree node.\n",
    "# class TreeNode:\n",
    "#     def __init__(self, x):\n",
    "#         self.val = x\n",
    "#         self.left = None\n",
    "#         self.right = None\n",
    "\n",
    "class Solution:\n",
    "    def zigzagLevelOrder(self, root: TreeNode) -> List[List[int]]:\n",
    "        # dfs 不适用\n",
    "        ans = []\n",
    "        def dfs(node, depth):\n",
    "            if node == None:\n",
    "                return\n",
    "            if len(ans) <= depth:\n",
    "                ans.append([])\n",
    "            if depth % 2 == 0:\n",
    "                ans[depth].append(node.val)\n",
    "            else:\n",
    "                ans[depth].insert(0, node.val)\n",
    "            dfs(node.left, depth + 1)\n",
    "            dfs(node.right, depth + 1)\n",
    "        dfs(root, 0)\n",
    "        return ans"
   ]
  }
 ],
 "metadata": {
  "kernelspec": {
   "display_name": "Python 3",
   "language": "python",
   "name": "python3"
  },
  "language_info": {
   "codemirror_mode": {
    "name": "ipython",
    "version": 3
   },
   "file_extension": ".py",
   "mimetype": "text/x-python",
   "name": "python",
   "nbconvert_exporter": "python",
   "pygments_lexer": "ipython3",
   "version": "3.6.5"
  }
 },
 "nbformat": 4,
 "nbformat_minor": 2
}
