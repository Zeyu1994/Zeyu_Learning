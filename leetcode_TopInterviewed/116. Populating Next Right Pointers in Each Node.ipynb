{
 "cells": [
  {
   "cell_type": "markdown",
   "metadata": {},
   "source": [
    "题目: given a perfect binary tree, 标出next left in Node.next\n",
    "    ![](https://assets.leetcode.com/uploads/2019/02/14/116_sample.png)\n",
    "基本思路:\n",
    "* dfs实现，"
   ]
  },
  {
   "cell_type": "code",
   "execution_count": null,
   "metadata": {},
   "outputs": [],
   "source": [
    "\"\"\"\n",
    "# Definition for a Node.\n",
    "class Node:\n",
    "    def __init__(self, val, left, right, next):\n",
    "        self.val = val\n",
    "        self.left = left\n",
    "        self.right = right\n",
    "        self.next = next\n",
    "\"\"\"\n",
    "class Solution:\n",
    "    def connect(self, root: 'Node') -> 'Node':\n",
    "        # bfs\n",
    "        # Node, last right node, layer, num\n",
    "        # from right to left\n",
    "        queue = [(root, 0, 0)]\n",
    "        last = None\n",
    "        while queue:\n",
    "            node, layer, num = queue.pop(0)\n",
    "            if node == None:\n",
    "                continue\n",
    "            if 2**layer - 1 != num:\n",
    "                node.next = last\n",
    "            last = node\n",
    "            queue.append((node.right, layer + 1, num * 2 + 1))\n",
    "            queue.append((node.left, layer + 1, num * 2))\n",
    "        return root\n",
    "            \n",
    "            "
   ]
  }
 ],
 "metadata": {
  "kernelspec": {
   "display_name": "Python 3",
   "language": "python",
   "name": "python3"
  },
  "language_info": {
   "codemirror_mode": {
    "name": "ipython",
    "version": 3
   },
   "file_extension": ".py",
   "mimetype": "text/x-python",
   "name": "python",
   "nbconvert_exporter": "python",
   "pygments_lexer": "ipython3",
   "version": "3.6.5"
  }
 },
 "nbformat": 4,
 "nbformat_minor": 2
}
