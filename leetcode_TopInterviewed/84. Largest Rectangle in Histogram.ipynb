{
 "cells": [
  {
   "cell_type": "markdown",
   "metadata": {},
   "source": [
    "题目: 给出一数列，在数列的柱状图里，找出最大的面积\n",
    "\n",
    "基本思路(mono stack):\n",
    "* 用mono stack来求解，复杂度O(n)\n",
    "* 初始: height.append(0) 与 stack = [-1]\n",
    "    * stack = [-1]是为了同时避免第一次空list调用和避免当pop后到头的情况，\n",
    "        * stack = [0], pop后就空了，而w是从0到最右\n",
    "    * height.append(0)则与⬆️配合。\n",
    "* stack内是的index是单调递增的，index同时保存了顺序和边界。\n",
    "* 在计算面积时，先pop后计算边界:\n",
    "    * 每次计算矩阵，左边界一直是i\n",
    "    * 先pop再计算width,是为了得到正确的右边界\n",
    "    * 例如heights = [1, 6, 6], 那么最后stack=[-1, 0, 2], 此时如果先计算width是不行的"
   ]
  },
  {
   "cell_type": "code",
   "execution_count": 2,
   "metadata": {},
   "outputs": [],
   "source": [
    "# 初解，超时\n",
    "class Solution:\n",
    "    def largestRectangleArea(self, heights):\n",
    "        # search with order\n",
    "        maxArea = 0\n",
    "        m = len(heights)\n",
    "        for width in range(m, 0, -1):\n",
    "            # width is from m to 1\n",
    "            maxAreaTemp = 0\n",
    "            for start in range(m - width + 1):\n",
    "                # from: m - width, ... ,0（也可写作range(m - width, -1, -1)）\n",
    "                end = start + width\n",
    "                minheight = min(heights[start: end])\n",
    "                maxAreaTemp = max(maxAreaTemp, minheight * width)\n",
    "            maxArea = max(maxArea, maxAreaTemp)\n",
    "        return maxArea"
   ]
  },
  {
   "cell_type": "code",
   "execution_count": null,
   "metadata": {},
   "outputs": [],
   "source": [
    "# 进一步优化...动态规划，仍然超时....(O(n^2))\n",
    "class Solution:\n",
    "    def largestRectangleArea(self, heights: List[int]) -> int:\n",
    "        # search with order\n",
    "        maxArea = 0\n",
    "        m = len(heights)\n",
    "        minheights = [0] * m\n",
    "        for width in range(1, m + 1):\n",
    "            # width is from m to 1\n",
    "            maxAreaTemp = 0\n",
    "            for start in range(m - width + 1):\n",
    "                end = start + width\n",
    "                # 是否能对minheight 进行一些优化？\n",
    "                # 用动态规划法最简单\n",
    "                # 以下为进一步优化的动态规划法:\n",
    "                if width == 1:\n",
    "                    minheights[start] = heights[start]\n",
    "                else:\n",
    "                    minheights[start] = min(minheights[start], minheights[start+1])\n",
    "                \n",
    "                maxAreaTemp = max(maxAreaTemp, minheights[start] * width)\n",
    "            maxArea = max(maxArea, maxAreaTemp)\n",
    "        return maxArea"
   ]
  },
  {
   "cell_type": "code",
   "execution_count": 3,
   "metadata": {},
   "outputs": [],
   "source": [
    "# 对于每一个柱子，你需要找到其右边第一个比他低的柱子，才可以一次性算出在其右边界前，包含自身的最大矩阵\n",
    "# (在右边界之前，算出的矩阵面积，总会有更大的矩阵面积)\n",
    "# 而\"更新右边界\"这个过程，可以用monoStack(单调栈)进行解决\n",
    "\n",
    "class Solution:\n",
    "    def largestRectangleArea(self, heights):\n",
    "        heights.append(0)\n",
    "        stack = [-1]\n",
    "        ans = 0\n",
    "        for i in range(len(height)):\n",
    "            while heights[i] < heights[stack[-1]]:\n",
    "                # 每次计算矩阵，左边界一直是i\n",
    "                # 先pop再计算width,是为了得到正确的右边界\n",
    "                # 例如heights = [1, 6, 6], 那么最后stack=[-1, 0, 2], 此时如果先计算width是不行的\n",
    "                h = heights[stack.pop()]\n",
    "                w = i - stack[-1] - 1\n",
    "                ans = max(ans, h * w)\n",
    "            stack.append(i)\n",
    "        heights.pop()\n",
    "        return ans"
   ]
  },
  {
   "cell_type": "code",
   "execution_count": null,
   "metadata": {},
   "outputs": [],
   "source": [
    "# monoStack, by myself\n",
    "\n",
    "class Solution:\n",
    "    # 不考虑边缘情况的版本，对于最后一个柱子不好处理\n",
    "    # 还存在许多问题，应该先pop再计算width\n",
    "    def largestRectangleArea(self, height):\n",
    "        stack = []\n",
    "        ans = 0\n",
    "        for i in range(len(height)):\n",
    "            while stack and (height[stack[-1]] > height[i]):\n",
    "                # increase inside the stack\n",
    "                # i is the left border\n",
    "                w = i - stack[-1]\n",
    "                h = height[stack.pop()]\n",
    "                ans = max(ans, w * h)\n",
    "            stack.append(i)\n",
    "        return ans"
   ]
  }
 ],
 "metadata": {
  "kernelspec": {
   "display_name": "Python 3",
   "language": "python",
   "name": "python3"
  },
  "language_info": {
   "codemirror_mode": {
    "name": "ipython",
    "version": 3
   },
   "file_extension": ".py",
   "mimetype": "text/x-python",
   "name": "python",
   "nbconvert_exporter": "python",
   "pygments_lexer": "ipython3",
   "version": "3.6.5"
  }
 },
 "nbformat": 4,
 "nbformat_minor": 2
}
