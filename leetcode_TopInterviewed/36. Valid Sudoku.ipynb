{
 "cells": [
  {
   "cell_type": "markdown",
   "metadata": {},
   "source": [
    "题目:验证一个9*9数独是否重复\n",
    "\n",
    "基本思路：\n",
    "1. 将每行，每列，每个3*3块的数字放入list\n",
    "2. 单独写一个isduplicate()，确认是否重复\n",
    "    * 用set()的len()是否等于原len()来判定"
   ]
  },
  {
   "cell_type": "code",
   "execution_count": 10,
   "metadata": {},
   "outputs": [],
   "source": [
    "# 每个数独的输入\n",
    "board = [[\"5\",\"3\",\".\",\".\",\"7\",\".\",\".\",\".\",\".\"],\n",
    "         [\"6\",\".\",\".\",\"1\",\"9\",\"5\",\".\",\".\",\".\"],\n",
    "         [\".\",\"9\",\"8\",\".\",\".\",\".\",\".\",\"6\",\".\"],\n",
    "         [\"8\",\".\",\".\",\".\",\"6\",\".\",\".\",\".\",\"3\"],\n",
    "         [\"4\",\".\",\".\",\"8\",\".\",\"3\",\".\",\".\",\"1\"],\n",
    "         [\"7\",\".\",\".\",\".\",\"2\",\".\",\".\",\".\",\"6\"],\n",
    "         [\".\",\"6\",\".\",\".\",\".\",\".\",\"2\",\"8\",\".\"],\n",
    "         [\".\",\".\",\".\",\"4\",\"1\",\"9\",\".\",\".\",\"5\"],\n",
    "         [\".\",\".\",\".\",\".\",\"8\",\".\",\".\",\"7\",\"9\"]]\n"
   ]
  },
  {
   "cell_type": "code",
   "execution_count": 11,
   "metadata": {},
   "outputs": [],
   "source": [
    "# 最初答案\n",
    "class Solution:\n",
    "    def isduplicate(self, numlist):\n",
    "        \"\"\"\n",
    "        type numlist: list contain the digits 1-9 and .\n",
    "        rtype: bool\n",
    "        \"\"\"\n",
    "        numlist = [i for i in numlist if i not in [\".\"]]\n",
    "        if len(set(numlist)) == len(numlist):\n",
    "            return False\n",
    "        else:\n",
    "            return True\n",
    "        \n",
    "    def isValidSudoku(self, board):\n",
    "        \"\"\"\n",
    "        :type board: List[List[str]]\n",
    "        :rtype: bool\n",
    "        \"\"\"\n",
    "        for row in range(9):\n",
    "            row = board[row]\n",
    "            if self.isduplicate(row):\n",
    "                return False\n",
    "            \n",
    "        for col in range(9):\n",
    "            col = [board[i][col] for i in range(9)]\n",
    "            if self.isduplicate(col):\n",
    "                return False\n",
    "            \n",
    "        for box in range(9):\n",
    "            row = box // 3\n",
    "            col = box % 3\n",
    "            row *= 3\n",
    "            col *= 3\n",
    "            # 范围\n",
    "            # [row*3, row*3 + 2]\n",
    "            # [col*3, col*3 + 2]\n",
    "            box = [board[row + i // 3][col + i % 3] for i in range(9)]\n",
    "            if self.isduplicate(box):\n",
    "                return False\n",
    "        return True"
   ]
  },
  {
   "cell_type": "markdown",
   "metadata": {},
   "source": [
    "改进\n",
    "\n",
    "1. 对于box这部分，可以用两个for loop 而非用数学的形式，这样更易理解\n",
    "```python\n",
    "for i in [0, 3, 6]:\n",
    "     for j in [0, 3, 6]:\n",
    "        box = [board[x][y] for x in range(i, i + 3) for y in range(j, j + 3)]\n",
    "```\n",
    "2. 更面向对象的写法(如下)"
   ]
  },
  {
   "cell_type": "code",
   "execution_count": 12,
   "metadata": {},
   "outputs": [],
   "source": [
    "# 更面向对象的写法\n",
    "class Solution:\n",
    "    def isValidSudoku(self, board):\n",
    "        return (self.is_row_valid(board) and\n",
    "                self.is_col_valid(board) and\n",
    "                self.is_square_valid(board))\n",
    "\n",
    "    def is_row_valid(self, board):\n",
    "        for row in board:\n",
    "            if not self.is_unit_valid(row):\n",
    "                return False\n",
    "        return True\n",
    "\n",
    "    def is_col_valid(self, board):\n",
    "        for col in zip(*board):\n",
    "            if not self.is_unit_valid(col):\n",
    "                return False\n",
    "        return True\n",
    "\n",
    "    def is_square_valid(self, board):\n",
    "        for i in (0, 3, 6):\n",
    "            for j in (0, 3, 6):\n",
    "                square = [board[x][y] for x in range(i, i + 3) for y in range(j, j + 3)]\n",
    "                if not self.is_unit_valid(square):\n",
    "                    return False\n",
    "        return True\n",
    "\n",
    "    def is_unit_valid(self, unit):\n",
    "        unit = [i for i in unit if i != '.']\n",
    "        return len(set(unit)) == len(unit)"
   ]
  }
 ],
 "metadata": {
  "kernelspec": {
   "display_name": "Python 3",
   "language": "python",
   "name": "python3"
  },
  "language_info": {
   "codemirror_mode": {
    "name": "ipython",
    "version": 3
   },
   "file_extension": ".py",
   "mimetype": "text/x-python",
   "name": "python",
   "nbconvert_exporter": "python",
   "pygments_lexer": "ipython3",
   "version": "3.6.5"
  }
 },
 "nbformat": 4,
 "nbformat_minor": 2
}
