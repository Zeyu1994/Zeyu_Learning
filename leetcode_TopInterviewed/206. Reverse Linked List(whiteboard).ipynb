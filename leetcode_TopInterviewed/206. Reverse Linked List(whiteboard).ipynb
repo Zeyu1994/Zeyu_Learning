{
 "cells": [
  {
   "cell_type": "markdown",
   "metadata": {},
   "source": [
    "题目: 反转一个linked list\n",
    "\n",
    "基本思路: \n",
    "* 不难，迭代和递归都可以\n",
    "\n",
    "白板注意:\n",
    "* 忘记写self\n",
    "* 忘记测试edge case， head为None时"
   ]
  },
  {
   "cell_type": "code",
   "execution_count": null,
   "metadata": {},
   "outputs": [],
   "source": [
    "# Definition for singly-linked list.\n",
    "# class ListNode:\n",
    "#     def __init__(self, x):\n",
    "#         self.val = x\n",
    "#         self.next = None\n",
    "\n",
    "class Solution:\n",
    "    def reverseList(self, head: ListNode) -> ListNode:\n",
    "        if head == None:\n",
    "            return None\n",
    "        tmp = head.next\n",
    "        head.next = None\n",
    "        while tmp != None:\n",
    "            tmp1 = tmp.next\n",
    "            tmp.next = head\n",
    "            head = tmp\n",
    "            tmp = tmp1\n",
    "        return head"
   ]
  },
  {
   "cell_type": "code",
   "execution_count": null,
   "metadata": {},
   "outputs": [],
   "source": [
    "# Definition for singly-linked list.\n",
    "# class ListNode:\n",
    "#     def __init__(self, x):\n",
    "#         self.val = x\n",
    "#         self.next = None\n",
    "\n",
    "class Solution:\n",
    "    def reverseList(self, head: ListNode) -> ListNode:\n",
    "        # iteratively\n",
    "        if head == None:\n",
    "            return \n",
    "        l = [head]\n",
    "        while head.next != None:\n",
    "            head = head.next\n",
    "            l.append(head)\n",
    "        start = ListNode(0)\n",
    "        start.next = head\n",
    "        while l:\n",
    "            head.next = l.pop()\n",
    "            head = head.next\n",
    "        head.next = None\n",
    "        return start.next"
   ]
  },
  {
   "cell_type": "code",
   "execution_count": null,
   "metadata": {},
   "outputs": [],
   "source": [
    "# Definition for singly-linked list.\n",
    "# class ListNode:\n",
    "#     def __init__(self, x):\n",
    "#         self.val = x\n",
    "#         self.next = None\n",
    "\n",
    "class Solution:\n",
    "    def helper(self, node, last):\n",
    "        tmp = node.next\n",
    "        node.next = last\n",
    "        if tmp != None:\n",
    "            return self.helper(tmp, node)\n",
    "        else:\n",
    "            return node\n",
    "    def reverseList(self, head: ListNode) -> ListNode:\n",
    "        if head == None:\n",
    "            return head\n",
    "        return self.helper(head, None)"
   ]
  }
 ],
 "metadata": {
  "kernelspec": {
   "display_name": "Python 3",
   "language": "python",
   "name": "python3"
  },
  "language_info": {
   "codemirror_mode": {
    "name": "ipython",
    "version": 3
   },
   "file_extension": ".py",
   "mimetype": "text/x-python",
   "name": "python",
   "nbconvert_exporter": "python",
   "pygments_lexer": "ipython3",
   "version": "3.6.5"
  }
 },
 "nbformat": 4,
 "nbformat_minor": 2
}
