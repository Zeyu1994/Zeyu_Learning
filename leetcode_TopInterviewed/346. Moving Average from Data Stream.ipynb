{
 "cells": [
  {
   "cell_type": "markdown",
   "metadata": {},
   "source": [
    "题目: 实现移动平均\n",
    "\n",
    "基本思路:\n",
    "* 用queue来实现，可以达到O(1)时间，O(n)空间。需要注意一些细节。"
   ]
  },
  {
   "cell_type": "code",
   "execution_count": null,
   "metadata": {},
   "outputs": [],
   "source": [
    "class MovingAverage:\n",
    "\n",
    "    def __init__(self, size: int):\n",
    "        \"\"\"\n",
    "        Initialize your data structure here.\n",
    "        \"\"\"\n",
    "        self.size = size\n",
    "        # the sum of last size - 1\n",
    "        self.step = 1\n",
    "        self.last_n = [0] * size\n",
    "        self.last_sum = 0\n",
    "        \n",
    "    def next(self, val: int) -> float:\n",
    "        last_sum = self.last_sum\n",
    "        last_n = self.last_n\n",
    "        last_n_num = last_n.pop(0)\n",
    "        self.last_n = last_n + [val]\n",
    "        step = self.step\n",
    "        this_sum = last_sum - last_n_num + val\n",
    "        self.last_sum = this_sum\n",
    "        self.step = min(step + 1, self.size)\n",
    "        return this_sum/step\n",
    "\n",
    "\n",
    "# Your MovingAverage object will be instantiated and called as such:\n",
    "# obj = MovingAverage(size)\n",
    "# param_1 = obj.next(val)"
   ]
  },
  {
   "cell_type": "code",
   "execution_count": null,
   "metadata": {},
   "outputs": [],
   "source": [
    "class MovingAverage:\n",
    "\n",
    "    def __init__(self, size: int):\n",
    "        \"\"\"\n",
    "        Initialize your data structure here.\n",
    "        \"\"\"\n",
    "        self.size = size\n",
    "        self.last = [0] * (size - 1) \n",
    "        self.step = 1\n",
    "        \n",
    "    def next(self, val: int) -> float:\n",
    "        step = self.step\n",
    "        last = self.last\n",
    "        meanNext = sum(last) / step + val / step\n",
    "        self.step = min(step + 1, self.size)\n",
    "        last.append(val)\n",
    "        self.last = last[1 : ]\n",
    "        return meanNext\n",
    "            \n",
    "\n",
    "\n",
    "# Your MovingAverage object will be instantiated and called as such:\n",
    "# obj = MovingAverage(size)\n",
    "# param_1 = obj.next(val)"
   ]
  }
 ],
 "metadata": {
  "kernelspec": {
   "display_name": "Python 3",
   "language": "python",
   "name": "python3"
  },
  "language_info": {
   "codemirror_mode": {
    "name": "ipython",
    "version": 3
   },
   "file_extension": ".py",
   "mimetype": "text/x-python",
   "name": "python",
   "nbconvert_exporter": "python",
   "pygments_lexer": "ipython3",
   "version": "3.6.5"
  }
 },
 "nbformat": 4,
 "nbformat_minor": 2
}
