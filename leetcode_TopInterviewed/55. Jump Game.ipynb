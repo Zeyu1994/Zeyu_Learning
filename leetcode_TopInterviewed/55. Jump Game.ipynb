{
 "cells": [
  {
   "cell_type": "markdown",
   "metadata": {},
   "source": [
    "题目: 从index 0开始，每个数代表最大可跳数，看看能不能跳到末尾\n",
    "\n",
    "<br>注意: solution中有提到本问题是dynamic programming(https://en.wikipedia.org/wiki/Dynamic_programming)\n",
    "<br>可分成**四步**来完全理解：\n",
    "1. Start with the recursive backtracking solution\n",
    "2. Optimize by using a memoization table (top-down[2] dynamic programming)\n",
    "3. Remove the need for recursion (bottom-up dynamic programming)\n",
    "4. Apply final tricks to reduce the time / memory complexity\n",
    "\n",
    "基本思路:\n",
    "1. backtracking: O(2^n)\n",
    "2. Dynamic Programming Top-down: O(n^2) \n",
    "    * 记忆数列memo，每个点有三个状态，初始为未知\n",
    "    * 用递归填写memo\n",
    "3. Dynamic Programming Bottom-up： O(n^2) \n",
    "    * 去除递归, pointer从右到左\n",
    "    * memo只需要两种状态\n",
    "4. 贪心: O(n)\n",
    "    * 只要每个点能够到下一个**最近**的\"good point\"，那么这个点也是\"good point\"\n",
    "    * 只要从右到左遍历一遍，且更新goal和pointer则可"
   ]
  },
  {
   "cell_type": "code",
   "execution_count": 2,
   "metadata": {},
   "outputs": [],
   "source": [
    "# 追溯法(backtracking)，超时\n",
    "class Solution:\n",
    "    def canJump(self, nums):\n",
    "        point = 0\n",
    "        n = len(nums)\n",
    "        ans = False\n",
    "        def Jump(point):\n",
    "            if point >= n - 1:\n",
    "                return True\n",
    "            for i in range(nums[point] + 1):\n",
    "                if i == 0:\n",
    "                    continue\n",
    "                if Jump(point + i):\n",
    "                    return True\n",
    "            return False\n",
    "        return Jump(0)"
   ]
  },
  {
   "cell_type": "code",
   "execution_count": null,
   "metadata": {},
   "outputs": [],
   "source": [
    "# 迭代从大到小的backtracking，依旧超时。\n",
    "class Solution:\n",
    "    def canJump(self, nums: List[int]) -> bool:\n",
    "        point = 0\n",
    "        n = len(nums)\n",
    "        ans = False\n",
    "        def Jump(point):\n",
    "            if point >= n - 1:\n",
    "                return True\n",
    "            for i in range(nums[point], 0, -1):\n",
    "                if Jump(point + i):\n",
    "                    return True\n",
    "            return False\n",
    "        return Jump(0)"
   ]
  },
  {
   "cell_type": "code",
   "execution_count": 14,
   "metadata": {},
   "outputs": [],
   "source": [
    "# Dynamic Programming Top-down\n",
    "class Solution:\n",
    "    def canJump(self, nums: List[int]) -> bool:\n",
    "        # -1: unknown, 0:bad, 1: good\n",
    "        memo = [-1] * len(nums)\n",
    "        memo[-1] = 1\n",
    "        pointer = 0\n",
    "        def jump(pointer):\n",
    "            if pointer >= (len(nums) - 1) or memo[pointer] == 1:\n",
    "                return True\n",
    "            for i in range(1, nums[pointer] + 1):\n",
    "                if memo[pointer + i] == 0:\n",
    "                    continue\n",
    "                elif memo[pointer + i] == 1:\n",
    "                    return True\n",
    "                else:\n",
    "                    if jump(pointer + i):\n",
    "                        memo[pointer + i] = 1\n",
    "                        return True\n",
    "                    else:\n",
    "                        memo[pointer + i] = 0\n",
    "            return False\n",
    "        return jump(pointer)\n",
    "\n",
    "                "
   ]
  },
  {
   "cell_type": "code",
   "execution_count": null,
   "metadata": {},
   "outputs": [],
   "source": [
    "# Dynamic Programming Bottom-up\n",
    "class Solution:\n",
    "    def canJump(self, nums: List[int]) -> bool:\n",
    "        memo = [False] * len(nums)\n",
    "        memo[-1] = True\n",
    "        for pointer in range(len(nums) - 2, -1, -1):\n",
    "            for jump in range(1, nums[pointer] + 1):\n",
    "                if memo[pointer + jump]:\n",
    "                    memo[pointer] = True\n",
    "                    break\n",
    "            \n",
    "        return memo[0]"
   ]
  },
  {
   "cell_type": "code",
   "execution_count": null,
   "metadata": {},
   "outputs": [],
   "source": [
    "# 贪心法\n",
    "class Solution:\n",
    "    def canJump(self, nums: List[int]) -> bool:\n",
    "        goal = len(nums) - 1\n",
    "        for pointer in range(len(nums) - 2, -1, -1):\n",
    "            if goal - pointer <= nums[pointer]:\n",
    "                goal = pointer\n",
    "        return goal == 0\n",
    "        "
   ]
  }
 ],
 "metadata": {
  "kernelspec": {
   "display_name": "Python 3",
   "language": "python",
   "name": "python3"
  },
  "language_info": {
   "codemirror_mode": {
    "name": "ipython",
    "version": 3
   },
   "file_extension": ".py",
   "mimetype": "text/x-python",
   "name": "python",
   "nbconvert_exporter": "python",
   "pygments_lexer": "ipython3",
   "version": "3.6.5"
  }
 },
 "nbformat": 4,
 "nbformat_minor": 2
}
