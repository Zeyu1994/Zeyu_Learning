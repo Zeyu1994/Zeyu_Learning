{
 "cells": [
  {
   "cell_type": "markdown",
   "metadata": {},
   "source": [
    "[题目](https://leetcode.com/problems/longest-valid-parentheses/): 给出一串括号里最长的完整括号 "
   ]
  },
  {
   "cell_type": "code",
   "execution_count": null,
   "metadata": {},
   "outputs": [],
   "source": []
  },
  {
   "cell_type": "code",
   "execution_count": null,
   "metadata": {},
   "outputs": [],
   "source": [
    "class Solution:\n",
    "    def longestValidParentheses(self, s: str) -> int:\n",
    "        # 动态规划法\n",
    "        ans = 0\n",
    "        memo = [0] * len(s)\n",
    "        for i in range(len(s)):\n",
    "            if i > 0 and s[i] == ')' and s[i - 1] == '(':\n",
    "                if i >= 2:\n",
    "                    memo[i] = memo[i - 2] + 2\n",
    "                else:\n",
    "                    memo[i] = 2\n",
    "            if i > 0 and s[i] == ')' and s[i - 1] == ')':\n",
    "                ind = i - 1 - memo[i - 1] \n",
    "                if ind >= 0 and s[ind] == '(':\n",
    "                    # memo[i] = memo[i - 1] + 2\n",
    "                    # 这里的传递需要是上一个括号 + 上上个括号...\n",
    "                    # (()()) <- 比如这种\n",
    "                    # ((')'()) 中')'就是 memo[ind - 1]\n",
    "                    memo[i] = memo[i - 1] + memo[ind - 1] + 2\n",
    "            ans = max(ans, memo[i])\n",
    "        return ans\n",
    "                    \n",
    "                "
   ]
  }
 ],
 "metadata": {
  "kernelspec": {
   "display_name": "Python 3",
   "language": "python",
   "name": "python3"
  },
  "language_info": {
   "codemirror_mode": {
    "name": "ipython",
    "version": 3
   },
   "file_extension": ".py",
   "mimetype": "text/x-python",
   "name": "python",
   "nbconvert_exporter": "python",
   "pygments_lexer": "ipython3",
   "version": "3.6.5"
  }
 },
 "nbformat": 4,
 "nbformat_minor": 2
}
