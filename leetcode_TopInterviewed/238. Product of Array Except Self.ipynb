{
 "cells": [
  {
   "cell_type": "markdown",
   "metadata": {},
   "source": [
    "[题目](https://leetcode.com/problems/product-of-array-except-self/): 给出list中除了自己外其他所有的num的product\n",
    "\n",
    "基本思路:\n",
    "* "
   ]
  },
  {
   "cell_type": "code",
   "execution_count": null,
   "metadata": {},
   "outputs": [],
   "source": [
    "class Solution(object):\n",
    "    def productExceptSelf(self, nums):\n",
    "        \"\"\"\n",
    "        :type nums: List[int]\n",
    "        :rtype: List[int]\n",
    "        \"\"\"\n",
    "        # without division\n",
    "        # output array dose not count as extra space\n",
    "        # two side product lists and use inupt and output space\n",
    "        ans = []\n",
    "        for i in range(len(nums)):\n",
    "            if i == 0:\n",
    "                ans.append(1)\n",
    "                continue\n",
    "            ans.append(nums[i - 1] * ans[i - 1])\n",
    "                \n",
    "        for j in range(len(nums)):\n",
    "            if j == 0:\n",
    "                tmp = nums[~j]\n",
    "                nums[~j] = 1\n",
    "                continue\n",
    "            nums[~j], tmp = nums[~(j - 1)] * tmp,  nums[~(j)]\n",
    "        for i in range(len(nums)):\n",
    "            ans[i] = ans[i] * nums[i]\n",
    "        return ans"
   ]
  },
  {
   "cell_type": "code",
   "execution_count": null,
   "metadata": {},
   "outputs": [],
   "source": [
    "class Solution(object):\n",
    "    def productExceptSelf(self, nums):\n",
    "        \"\"\"\n",
    "        :type nums: List[int]\n",
    "        :rtype: List[int]\n",
    "        \"\"\"\n",
    "        # with division\n",
    "        # take care of zero\n",
    "        product = 1\n",
    "        zero_count = 0\n",
    "        for i in nums:\n",
    "            if i == 0 and zero_count == 0:\n",
    "                zero_count += 1\n",
    "                continue\n",
    "            product *= i\n",
    "        for i in range(len(nums)):\n",
    "            if nums[i] == 0:\n",
    "                nums[i] = product\n",
    "            elif zero_count:\n",
    "                nums[i] = 0\n",
    "            else:\n",
    "                nums[i] = product/nums[i]\n",
    "        return nums"
   ]
  }
 ],
 "metadata": {
  "kernelspec": {
   "display_name": "Python 3",
   "language": "python",
   "name": "python3"
  },
  "language_info": {
   "codemirror_mode": {
    "name": "ipython",
    "version": 3
   },
   "file_extension": ".py",
   "mimetype": "text/x-python",
   "name": "python",
   "nbconvert_exporter": "python",
   "pygments_lexer": "ipython3",
   "version": "3.6.5"
  }
 },
 "nbformat": 4,
 "nbformat_minor": 2
}
