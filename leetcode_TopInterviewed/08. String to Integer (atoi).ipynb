{
 "cells": [
  {
   "cell_type": "markdown",
   "metadata": {},
   "source": [
    "题目：若一段字符串最初出现数字，则返回该数，否则返回0\n",
    "\n",
    "以下函数中，isnum()与skipwhite()是自己造的轮子， 可以用str.isdigit()与str.strip()代替。\n",
    "\n",
    "基本思路:\n",
    "1. 用str.strip()跳过启始空白\n",
    "2. 默认positive, 判断第一个符号来确定正负或者跳出\n",
    "3. 用while迭代找到数字尾(tail)\n",
    "4. 根据tail, while来返回结果\n",
    "    * 如果tail=while则为空，返回0\n",
    "    * 否则返回int(str[head: tail])*正负(限制最大最小)"
   ]
  },
  {
   "cell_type": "code",
   "execution_count": 3,
   "metadata": {},
   "outputs": [],
   "source": [
    "class Solution:\n",
    "    def isnum(self, i):\n",
    "        # 用str.isdigit()代替\n",
    "        num = [str(i) for i in range(10)]\n",
    "        if i in num:\n",
    "            return True\n",
    "        else:\n",
    "            return False\n",
    "        \n",
    "    def skipwhite(self, str):\n",
    "        # 用str.strip() 代替\n",
    "        head = 0\n",
    "        while head < len(str) and str[head] in [' ']:\n",
    "            head += 1\n",
    "        return str[head:]\n",
    "\n",
    "    def myAtoi(self, str):\n",
    "        \"\"\"\n",
    "        :type str: str\n",
    "        :rtype: int\n",
    "        \"\"\"\n",
    "        #str = self.skipwhite(str)\n",
    "        str = str.strip()\n",
    "        l = len(str)\n",
    "        if l == 0:\n",
    "            return 0\n",
    "        head, tail = 0, -1\n",
    "        positive = 1\n",
    "        # to skip the whitespace\n",
    "        if str[head] == '-':\n",
    "            positive = -1\n",
    "            head += 1\n",
    "        elif str[head] == '+':\n",
    "            head += 1\n",
    "        tail = head\n",
    "        while tail < l and str[tail].isdigit():#self.isnum(str[tail]):\n",
    "            tail += 1\n",
    "        if tail != head:\n",
    "            k = int(str[head: tail]) * positive\n",
    "            k = min(max(k, -2147483648), 2147483647)\n",
    "            return k\n",
    "        else:\n",
    "            return 0\n"
   ]
  },
  {
   "cell_type": "markdown",
   "metadata": {},
   "source": [
    "正则表达式（待补充）"
   ]
  },
  {
   "cell_type": "code",
   "execution_count": null,
   "metadata": {},
   "outputs": [],
   "source": []
  }
 ],
 "metadata": {
  "kernelspec": {
   "display_name": "Python 3",
   "language": "python",
   "name": "python3"
  },
  "language_info": {
   "codemirror_mode": {
    "name": "ipython",
    "version": 3
   },
   "file_extension": ".py",
   "mimetype": "text/x-python",
   "name": "python",
   "nbconvert_exporter": "python",
   "pygments_lexer": "ipython3",
   "version": "3.6.5"
  }
 },
 "nbformat": 4,
 "nbformat_minor": 2
}
