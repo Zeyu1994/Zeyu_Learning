{
 "cells": [
  {
   "cell_type": "markdown",
   "metadata": {},
   "source": [
    "题目：按蜗牛型来遍历一个矩阵\n",
    "\n",
    "基本思路（解法1）\n",
    "1. 顺时针方向的方向变换 + 遍历直到尽头\n",
    "   <br>有两点:\n",
    "    * 顺时针变换方向的函数\n",
    "```python\n",
    "dr = [0, 1, 0, -1]\n",
    "dc = [1, 0, -1, 0]\n",
    "```\n",
    "    * 确定状态的矩阵(每个方向遍历到底，不重复)\n",
    "    ```python\n",
    "    seen = [[False] * C for _ in matrix]\n",
    "    ```\n",
    "2. 迭代R * C次，每次在判断是否超出边界后更新目前坐标。"
   ]
  },
  {
   "cell_type": "code",
   "execution_count": 3,
   "metadata": {},
   "outputs": [],
   "source": [
    "class Solution(object):\n",
    "    def spiralOrder(self, matrix):\n",
    "        if not matrix: return []\n",
    "        R, C = len(matrix), len(matrix[0])\n",
    "        # 确认状态的矩阵，每次移动只要按方向走就好(走到尽头)\n",
    "        seen = [[False] * C for _ in matrix]\n",
    "        ans = []\n",
    "        # 顺时针的移送矩阵\n",
    "        dr = [0, 1, 0, -1]\n",
    "        dc = [1, 0, -1, 0]\n",
    "        # 从0，0点开始\n",
    "        r = c = di = 0\n",
    "        for _ in range(R * C):\n",
    "            seen[r][c] = True\n",
    "            ans.append(matrix[r][c])\n",
    "            cr, cc = r + dr[di], c + dc[di]\n",
    "            if 0 <= cr < R and 0 <= cc < C and (not seen[cr][cc]):\n",
    "                r, c = cr, cc  \n",
    "            else:\n",
    "                di = (di + 1) % 4\n",
    "                r, c = r + dr[di], c + dc[di]\n",
    "        return ans"
   ]
  },
  {
   "cell_type": "markdown",
   "metadata": {},
   "source": [
    "基本思路（解法2）\n",
    "1. 按层进行：如下图\n",
    "    * 定义函数spiral_coords(r1, c1, r2, c2)来返回每层的上下左右四层(输入是矩阵的范围)\n",
    "![](https://leetcode.com/problems/spiral-matrix/Figures/54_spiralmatrix.png) \n",
    "    * 注意此处yield 的活用，用作一个可迭代对象"
   ]
  },
  {
   "cell_type": "code",
   "execution_count": 2,
   "metadata": {},
   "outputs": [],
   "source": [
    "class Solution(object):\n",
    "    def spiralOrder(self, matrix):\n",
    "        def spiral_coords(r1, c1, r2, c2):\n",
    "            for c in range(c1, c2 + 1):\n",
    "                yield r1, c\n",
    "            for r in range(r1 + 1, r2 + 1):\n",
    "                yield r, c2\n",
    "            if r1 < r2 and c1 < c2:\n",
    "                for c in range(c2 - 1, c1, -1):\n",
    "                    yield r2, c\n",
    "                for r in range(r2, r1, -1):\n",
    "                    yield r, c1\n",
    "\n",
    "        if not matrix: return []\n",
    "        ans = []\n",
    "        r1, r2 = 0, len(matrix) - 1\n",
    "        c1, c2 = 0, len(matrix[0]) - 1\n",
    "        while r1 <= r2 and c1 <= c2:\n",
    "            for r, c in spiral_coords(r1, c1, r2, c2):\n",
    "                ans.append(matrix[r][c])\n",
    "            r1 += 1; r2 -= 1\n",
    "            c1 += 1; c2 -= 1\n",
    "        return ans"
   ]
  },
  {
   "cell_type": "code",
   "execution_count": null,
   "metadata": {},
   "outputs": [],
   "source": []
  }
 ],
 "metadata": {
  "kernelspec": {
   "display_name": "Python 3",
   "language": "python",
   "name": "python3"
  },
  "language_info": {
   "codemirror_mode": {
    "name": "ipython",
    "version": 3
   },
   "file_extension": ".py",
   "mimetype": "text/x-python",
   "name": "python",
   "nbconvert_exporter": "python",
   "pygments_lexer": "ipython3",
   "version": "3.6.5"
  }
 },
 "nbformat": 4,
 "nbformat_minor": 2
}
