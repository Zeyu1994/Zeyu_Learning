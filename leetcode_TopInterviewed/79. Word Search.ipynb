{
 "cells": [
  {
   "cell_type": "markdown",
   "metadata": {},
   "source": [
    "题目：给一个2D矩阵，返回是否能够在矩阵中找到给定的单词。(用过的不能重复访问)\n",
    "\n",
    "基本思路(本质上也是dfs):\n",
    "* path保存搜索过的位置，index表示目前在搜索的位数\n",
    "* 进行递归:\n",
    "    * 如果len(path) == len(word)，那么返回true\n",
    "    * 如果index==0,那么search all matrix\n",
    "    * 如果index!=0, 那么搜索上下左右，且在矩阵中，且不在path中的格子\n",
    "    * 最后返回False"
   ]
  },
  {
   "cell_type": "code",
   "execution_count": null,
   "metadata": {},
   "outputs": [],
   "source": [
    "class Solution:\n",
    "    def exist(self, board: List[List[str]], word: str) -> bool:\n",
    "        nrow = len(board)\n",
    "        ncol = len(board[0])\n",
    "        path = []\n",
    "        def search(path, index):\n",
    "            if len(path) == len(word):\n",
    "                return True\n",
    "            if index == 0:\n",
    "                for i in range(nrow):   \n",
    "                    for j in range(ncol):\n",
    "                        if board[i][j] == word[0]:\n",
    "                            if search(path + [(i, j)], index + 1):\n",
    "                                return True\n",
    "            if index != 0:\n",
    "                i , j = path[-1]\n",
    "                for row, col in [(i+1, j), (i-1, j), (i, j+1), (i, j-1)]:\n",
    "                    if (row, col) not in path and 0<= row < nrow and 0<=col < ncol and board[row][col] == word[index]:\n",
    "                        if search(path + [(row, col)], index + 1):\n",
    "                                return True\n",
    "            return False\n",
    "                \n",
    "        return search(path, 0)"
   ]
  },
  {
   "cell_type": "markdown",
   "metadata": {},
   "source": [
    "改进:\n",
    "1. 把dfs放在OOP中，这样能方便的对变量(比如board)进行临时修改\n",
    "2. 访问过的i,j改为“#”，因此不用在path中search是否访问过\n",
    "3. 将F"
   ]
  },
  {
   "cell_type": "code",
   "execution_count": null,
   "metadata": {},
   "outputs": [],
   "source": [
    "class Solution:\n",
    "    def exist(self, board, word):\n",
    "        if not board:\n",
    "            return False\n",
    "        for i in range(len(board)):\n",
    "            for j in range(len(board[0])):\n",
    "                if self.dfs(board, i, j, word):\n",
    "                    return True\n",
    "        return False\n",
    "\n",
    "    # check whether can find word, start at (i,j) position    \n",
    "    def dfs(self, board, i, j, word):\n",
    "        if len(word) == 0: # all the characters are checked\n",
    "            return True\n",
    "        if i<0 or i>=len(board) or j<0 or j>=len(board[0]) or word[0]!=board[i][j]:\n",
    "            return False\n",
    "        tmp = board[i][j]  # first character is found, check the remaining part\n",
    "        board[i][j] = \"#\"  # avoid visit agian \n",
    "        # check whether can find \"word\" along one direction\n",
    "        res = self.dfs(board, i+1, j, word[1:]) or self.dfs(board, i-1, j, word[1:]) \\\n",
    "        or self.dfs(board, i, j+1, word[1:]) or self.dfs(board, i, j-1, word[1:])\n",
    "        board[i][j] = tmp\n",
    "        return res"
   ]
  }
 ],
 "metadata": {
  "kernelspec": {
   "display_name": "Python 3",
   "language": "python",
   "name": "python3"
  },
  "language_info": {
   "codemirror_mode": {
    "name": "ipython",
    "version": 3
   },
   "file_extension": ".py",
   "mimetype": "text/x-python",
   "name": "python",
   "nbconvert_exporter": "python",
   "pygments_lexer": "ipython3",
   "version": "3.6.5"
  }
 },
 "nbformat": 4,
 "nbformat_minor": 2
}
