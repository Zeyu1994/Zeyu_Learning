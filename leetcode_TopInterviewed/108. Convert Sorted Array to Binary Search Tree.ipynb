{
 "cells": [
  {
   "cell_type": "markdown",
   "metadata": {},
   "source": [
    "题目: 将sorted list convert to height-balanced binary tree\n",
    "\n",
    "基本思路: \n",
    "* 用recursion, divide array to half, return node"
   ]
  },
  {
   "cell_type": "code",
   "execution_count": null,
   "metadata": {},
   "outputs": [],
   "source": [
    "# Definition for a binary tree node.\n",
    "# class TreeNode:\n",
    "#     def __init__(self, x):\n",
    "#         self.val = x\n",
    "#         self.left = None\n",
    "#         self.right = None\n",
    "\n",
    "class Solution:\n",
    "    def sortedArrayToBST(self, nums: List[int]) -> TreeNode:\n",
    "        return self.helper(nums, 0, len(nums))\n",
    "    def helper(self, nums, lower, upper):\n",
    "        # lower should always < upper\n",
    "        # since lower <= len(nums) - 1 < upper\n",
    "        if lower == upper:\n",
    "            return \n",
    "        mid = (lower + upper) // 2\n",
    "        node = TreeNode(nums[mid])\n",
    "        node.left = self.helper(nums, lower, mid)\n",
    "        node.right = self.helper(nums, mid + 1, upper)\n",
    "        return node"
   ]
  }
 ],
 "metadata": {
  "kernelspec": {
   "display_name": "Python 3",
   "language": "python",
   "name": "python3"
  },
  "language_info": {
   "codemirror_mode": {
    "name": "ipython",
    "version": 3
   },
   "file_extension": ".py",
   "mimetype": "text/x-python",
   "name": "python",
   "nbconvert_exporter": "python",
   "pygments_lexer": "ipython3",
   "version": "3.6.5"
  }
 },
 "nbformat": 4,
 "nbformat_minor": 2
}
