{
 "cells": [
  {
   "cell_type": "markdown",
   "metadata": {},
   "source": [
    "题目: 找到s中最小的window，包含t所有字母(重复多个的话window中也要有至少相同数量)\n",
    "\n",
    "基本思路:\n",
    "1. 同样用window，在没满足条件的情况下，移动右指针\n",
    "2. 如果满足了条件，移动左指针并维护最短列，直到left~right window再次不满足\n",
    "\n",
    "更多细节\n",
    "* 用 ```python dict_t = collections.Counter(t)``` 来数t的每个字母的重复次数\n",
    "* required 则是unique字母的个数\n",
    "* formed 来跟踪是否满足要求(), window_counts[character] 来维持window内个字母count\n",
    "    * 因此维护formed可用\n",
    "    ```python \n",
    "    if character in dic_t and window_counts[character] == dic_t[character]:\n",
    "        formed += 1\n",
    "    if character in dict_t and window_counts[character] < dict_t[character]:\n",
    "        formed -= 1 \n",
    "    ```\n",
    "* ans 用tuple维护\n",
    "    ```python \n",
    "ans = (float(\"inf\"), l, r)``` \n",
    "```python\n",
    "if r - l + 1 < ans[0]:\n",
    "    ans = (r - l + 1, l, r)\n",
    "```"
   ]
  },
  {
   "cell_type": "code",
   "execution_count": 4,
   "metadata": {},
   "outputs": [],
   "source": [
    "import collections\n",
    "class Solution:\n",
    "    def minWindow(self, s, t):\n",
    "        \"\"\"\n",
    "        :type s: str\n",
    "        :type t: str\n",
    "        :rtype: str\n",
    "        \"\"\"\n",
    "\n",
    "        if not t or not s:\n",
    "            return \"\"\n",
    "\n",
    "        # Dictionary which keeps a count of all the unique characters in t.\n",
    "        dict_t = collections.Counter(t)\n",
    "\n",
    "        # Number of unique characters in t, which need to be present in the desired window.\n",
    "        required = len(dict_t)\n",
    "\n",
    "        # left and right pointer\n",
    "        l, r = 0, 0\n",
    "\n",
    "        # formed is used to keep track of how many unique characters in t are present in the current window in its desired frequency.\n",
    "        # e.g. if t is \"AABC\" then the window must have two A's, \n",
    "        # one B and one C. Thus formed would be = 3 when all these conditions are met.\n",
    "        formed = 0\n",
    "\n",
    "        # Dictionary which keeps a count of all the unique characters in the current window.\n",
    "        window_counts = {}\n",
    "\n",
    "        # ans tuple of the form (window length, left, right)\n",
    "        ans = float(\"inf\"), None, None\n",
    "\n",
    "        while r < len(s):\n",
    "\n",
    "            # Add one character from the right to the window\n",
    "            character = s[r]\n",
    "            window_counts[character] = window_counts.get(character, 0) + 1\n",
    "\n",
    "            # If the frequency of the current character added equals to the desired count in t then increment the formed count by 1.\n",
    "            # 对于本字母到达条件后\n",
    "            if character in dict_t and window_counts[character] == dict_t[character]:\n",
    "                formed += 1\n",
    "\n",
    "            # Try and contract the window till the point where it ceases to be 'desirable'.\n",
    "            while l <= r and formed == required:\n",
    "                character = s[l]\n",
    "\n",
    "                # Save the smallest window until now.\n",
    "                if r - l + 1 < ans[0]:\n",
    "                    ans = (r - l + 1, l, r)\n",
    "\n",
    "                # The character at the position pointed by the `left` pointer is no longer a part of the window.\n",
    "                window_counts[character] -= 1\n",
    "                if character in dict_t and window_counts[character] < dict_t[character]:\n",
    "                    formed -= 1\n",
    "\n",
    "                # Move the left pointer ahead, this would help to look for a new window.\n",
    "                l += 1    \n",
    "\n",
    "            # Keep expanding the window once we are done contracting.\n",
    "            r += 1    \n",
    "        return \"\" if ans[0] == float(\"inf\") else s[ans[1] : ans[2] + 1]\n",
    "                        \n",
    "                        "
   ]
  },
  {
   "cell_type": "code",
   "execution_count": 6,
   "metadata": {},
   "outputs": [
    {
     "data": {
      "text/plain": [
       "Counter({'A': 1, 'B': 1, 'C': 1})"
      ]
     },
     "execution_count": 6,
     "metadata": {},
     "output_type": "execute_result"
    }
   ],
   "source": [
    "t = \"ABC\"\n",
    "collections.Counter(t)"
   ]
  }
 ],
 "metadata": {
  "kernelspec": {
   "display_name": "Python 3",
   "language": "python",
   "name": "python3"
  },
  "language_info": {
   "codemirror_mode": {
    "name": "ipython",
    "version": 3
   },
   "file_extension": ".py",
   "mimetype": "text/x-python",
   "name": "python",
   "nbconvert_exporter": "python",
   "pygments_lexer": "ipython3",
   "version": "3.6.5"
  }
 },
 "nbformat": 4,
 "nbformat_minor": 2
}
