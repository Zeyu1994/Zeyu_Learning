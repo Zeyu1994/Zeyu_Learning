{
 "cells": [
  {
   "cell_type": "markdown",
   "metadata": {},
   "source": [
    "题目: 找到二叉树的最大深度\n",
    "\n",
    "基本思路: \n",
    "* 迭代的话，stack和queue都能解决，stack是dfs，queue是bfs（Breadth-First-Search）\n",
    "    * 可用用list.pop(0)来实现queue，而不一定要import queue\n",
    "* 递归"
   ]
  },
  {
   "cell_type": "code",
   "execution_count": null,
   "metadata": {},
   "outputs": [],
   "source": [
    "# Definition for a binary tree node.\n",
    "# class TreeNode:\n",
    "#     def __init__(self, x):\n",
    "#         self.val = x\n",
    "#         self.left = None\n",
    "#         self.right = None\n",
    "\n",
    "class Solution:\n",
    "    def maxDepth(self, root: TreeNode) -> int:\n",
    "        # 遍历一遍，然后记录长度就好了\n",
    "        # mDepth如果做成数列，那么就是可更改(mutable)对象\n",
    "        # 可return 深度来解决\n",
    "        mDepth = [0]\n",
    "        def dfs(node, depth):\n",
    "            if node == None:\n",
    "                mDepth[0] = max(mDepth[0], depth)\n",
    "                return\n",
    "            dfs(node.left, depth + 1)\n",
    "            dfs(node.right, depth + 1)\n",
    "        dfs(root, 0)\n",
    "        return mDepth[0] "
   ]
  },
  {
   "cell_type": "code",
   "execution_count": null,
   "metadata": {},
   "outputs": [],
   "source": [
    "# 迭代，用queue\n",
    "import queue\n",
    "class Solution:\n",
    "    def maxDepth(self, root: TreeNode) -> int:\n",
    "        q = queue.Queue()\n",
    "        q.put((root, 0))\n",
    "        mDepth = 0\n",
    "        while not q.empty():\n",
    "            node, depth = q.get()\n",
    "            if node == None:\n",
    "                mDepth = max(mDepth, depth)\n",
    "                continue\n",
    "            q.put((node.left, depth + 1))\n",
    "            q.put((node.right, depth + 1))\n",
    "        return mDepth\n",
    "            \n",
    "            "
   ]
  },
  {
   "cell_type": "code",
   "execution_count": null,
   "metadata": {},
   "outputs": [],
   "source": [
    "# 用list来实现queue, pop(0)\n",
    "class Solution:\n",
    "    def maxDepth(self, root: TreeNode) -> int:\n",
    "        q = []\n",
    "        q.append((root, 0))\n",
    "        mDepth = 0\n",
    "        while q:\n",
    "            node, depth = q.pop(0)\n",
    "            if node == None:\n",
    "                mDepth = max(mDepth, depth)\n",
    "                continue\n",
    "            q.append((node.left, depth + 1))\n",
    "            q.append((node.right, depth + 1))\n",
    "        return mDepth\n",
    "            \n",
    "            "
   ]
  },
  {
   "cell_type": "code",
   "execution_count": null,
   "metadata": {},
   "outputs": [],
   "source": [
    "# 一个简洁的递归答案\n",
    "class Solution:\n",
    "    def maxDepth(self, root: TreeNode) -> int:\n",
    "        if not root:\n",
    "            return 0\n",
    "        return 1 + max(self.maxDepth(root.left), self.maxDepth(root.right))"
   ]
  }
 ],
 "metadata": {
  "kernelspec": {
   "display_name": "Python 3",
   "language": "python",
   "name": "python3"
  },
  "language_info": {
   "codemirror_mode": {
    "name": "ipython",
    "version": 3
   },
   "file_extension": ".py",
   "mimetype": "text/x-python",
   "name": "python",
   "nbconvert_exporter": "python",
   "pygments_lexer": "ipython3",
   "version": "3.6.5"
  }
 },
 "nbformat": 4,
 "nbformat_minor": 2
}
