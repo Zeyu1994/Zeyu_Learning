{
 "cells": [
  {
   "cell_type": "code",
   "execution_count": null,
   "metadata": {},
   "outputs": [],
   "source": [
    "class Solution(object):\n",
    "    def summaryRanges(self, nums):\n",
    "        \"\"\"\n",
    "        :type nums: List[int]\n",
    "        :rtype: List[str]\n",
    "        \"\"\"\n",
    "        # corner case \n",
    "        nums.append(-1)\n",
    "        def output(start, end):\n",
    "            if nums[start] == nums[end - 1]:\n",
    "                return str(nums[start])\n",
    "            return str(nums[start]) + '->' +str(nums[end - 1])\n",
    "        start = 0\n",
    "        ans = []\n",
    "        for ind, val in enumerate(nums):\n",
    "            if ind > 0 and nums[ind - 1] != val - 1:\n",
    "                end = ind\n",
    "                ans.append(output(start, end))\n",
    "                start = ind\n",
    "        return ans"
   ]
  }
 ],
 "metadata": {
  "kernelspec": {
   "display_name": "Python 3",
   "language": "python",
   "name": "python3"
  },
  "language_info": {
   "codemirror_mode": {
    "name": "ipython",
    "version": 3
   },
   "file_extension": ".py",
   "mimetype": "text/x-python",
   "name": "python",
   "nbconvert_exporter": "python",
   "pygments_lexer": "ipython3",
   "version": "3.6.5"
  }
 },
 "nbformat": 4,
 "nbformat_minor": 2
}
