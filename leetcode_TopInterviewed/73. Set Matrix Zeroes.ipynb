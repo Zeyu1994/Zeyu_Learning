{
 "cells": [
  {
   "cell_type": "markdown",
   "metadata": {},
   "source": [
    "题目: 对于矩阵中的每个0，归零其行和列\n",
    "\n",
    "基本思路(解法1):\n",
    "1. 记录下每个0的行列，放入set\n",
    "2. 迭代归零\n",
    "3. 时间复杂度O(m*n),空间O(m+n)（worst case）"
   ]
  },
  {
   "cell_type": "code",
   "execution_count": 2,
   "metadata": {},
   "outputs": [],
   "source": [
    "class Solution:\n",
    "    def setZeroes(self, matrix):\n",
    "        \"\"\"\n",
    "        Do not return anything, modify matrix in-place instead.\n",
    "        \"\"\"\n",
    "        rows, cols = set(), set()\n",
    "        rnum = len(matrix)\n",
    "        cnum = len(matrix[0])\n",
    "        for i, row in enumerate(matrix):\n",
    "            for j, num in enumerate(row):\n",
    "                if num == 0:\n",
    "                    rows.add(i)\n",
    "                    cols.add(j)\n",
    "        for row in rows:\n",
    "            matrix[row] = [0] * cnum\n",
    "        for row in matrix:\n",
    "            for col in cols:\n",
    "                row[col] = 0"
   ]
  },
  {
   "cell_type": "markdown",
   "metadata": {},
   "source": [
    "**注意:** 如果用时间复杂度换空间，则是简单的。给出最优解\n",
    "\n",
    "基本思路(最优):\n",
    "1. 用本身的矩阵存储flag\n",
    "![](https://leetcode.com/problems/set-matrix-zeroes/Figures/73/MatrixZeros_18_1.png)\n",
    "2. 但是本方法有一定弊端，例如:\n",
    "    * 需要特殊标记第一行，第一列是否归0(因为矩阵内有0，则肯定第一行第一列内肯定会被改0)\n",
    "    * 第一列归0可参考(0, 0)点，那么第一行则需要另外标记(is_col)"
   ]
  },
  {
   "cell_type": "code",
   "execution_count": 3,
   "metadata": {},
   "outputs": [],
   "source": [
    "class Solution(object):\n",
    "    def setZeroes(self, matrix):\n",
    "        \"\"\"\n",
    "        :type matrix: List[List[int]]\n",
    "        :rtype: void Do not return anything, modify matrix in-place instead.\n",
    "        \"\"\"\n",
    "        is_col = False\n",
    "        R = len(matrix)\n",
    "        C = len(matrix[0])\n",
    "        for i in range(R):\n",
    "            # Since first cell for both first row and first column is the same i.e. matrix[0][0]\n",
    "            # We can use an additional variable for either the first row/column.\n",
    "            # For this solution we are using an additional variable for the first column\n",
    "            # and using matrix[0][0] for the first row.\n",
    "            if matrix[i][0] == 0:\n",
    "                is_col = True\n",
    "            for j in range(1, C):\n",
    "                # If an element is zero, we set the first element of the corresponding row and column to 0\n",
    "                if matrix[i][j]  == 0:\n",
    "                    matrix[0][j] = 0\n",
    "                    matrix[i][0] = 0\n",
    "\n",
    "        # Iterate over the array once again and using the first row and first column, update the elements.\n",
    "        for i in range(1, R):\n",
    "            for j in range(1, C):\n",
    "                if not matrix[i][0] or not matrix[0][j]:\n",
    "                    matrix[i][j] = 0\n",
    "\n",
    "        # See if the first row needs to be set to zero as well\n",
    "        if matrix[0][0] == 0:\n",
    "            for j in range(C):\n",
    "                matrix[0][j] = 0\n",
    "\n",
    "        # See if the first column needs to be set to zero as well        \n",
    "        if is_col:\n",
    "            for i in range(R):\n",
    "                matrix[i][0] = 0"
   ]
  },
  {
   "cell_type": "code",
   "execution_count": null,
   "metadata": {},
   "outputs": [],
   "source": []
  }
 ],
 "metadata": {
  "kernelspec": {
   "display_name": "Python 3",
   "language": "python",
   "name": "python3"
  },
  "language_info": {
   "codemirror_mode": {
    "name": "ipython",
    "version": 3
   },
   "file_extension": ".py",
   "mimetype": "text/x-python",
   "name": "python",
   "nbconvert_exporter": "python",
   "pygments_lexer": "ipython3",
   "version": "3.6.5"
  }
 },
 "nbformat": 4,
 "nbformat_minor": 2
}
