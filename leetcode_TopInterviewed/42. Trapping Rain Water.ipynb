{
 "cells": [
  {
   "cell_type": "markdown",
   "metadata": {},
   "source": [
    "题目：看容器能存多少水\n",
    "\n",
    "基本思路:\n",
    "1. 对于每一列，根据左右两边的最高度来确定能放多少水\n",
    "    * 左右高度的更新，可以每it列进行更新\n",
    "        * 复杂度O(n^2)\n",
    "    * 左边高度随着迭代指针往前慢慢更新(O(1))，右边的等跨过了最高点重新更新(O(n-it))\n",
    "        * 复杂度O(n)~O(n^2)。根据右边高度排序\n",
    "    * 动态规划法，记下每一列的左右高度\n",
    "        * 空间O(n)，时间O(n)\n",
    "    * two pointer, 用while控制左右，是*2的一般化\n",
    "        * 用if height[left] <= height[right] 来控制左右的切换，从两边进行\n",
    "        * 只要另一边point（say right）的bar能够比左边的bar高，那么我们就能在左边一直前进，而上限就是left_max\n",
    "        * 因为每次碰到一个很高的bar， 我们的指针都会trap在这个bar上，直到遇到下个更高的bar\n",
    "        * 空间O(n), 时间O(1)\n",
    "       "
   ]
  },
  {
   "cell_type": "code",
   "execution_count": null,
   "metadata": {},
   "outputs": [],
   "source": [
    "# 最简单思路， 每次迭代都更新left, right,O(n^2), 慢\n",
    "class Solution:\n",
    "    def trap(self, height):\n",
    "        \"\"\"\n",
    "        :type height: List[int]\n",
    "        :rtype: int\n",
    "        \"\"\"\n",
    "\n",
    "        water = 0\n",
    "        # 每个it都更新\n",
    "        for i in range(1, len(height) - 1):\n",
    "            lefth = max(height[0:i])\n",
    "            righth = max(height[i+1:])\n",
    "            h = height[i]\n",
    "            for j in range(h+1, min(lefth, righth) + 1):\n",
    "                water += 1\n",
    "        return water\n",
    "                "
   ]
  },
  {
   "cell_type": "code",
   "execution_count": 1,
   "metadata": {},
   "outputs": [],
   "source": [
    "# 改进版， 去掉了一个for循环，改进了更新左右高度的更新\n",
    "class Solution:\n",
    "    def trap(self, height):\n",
    "        \"\"\"\n",
    "        :type height: List[int]\n",
    "        :rtype: int\n",
    "        \"\"\"\n",
    "        if len(height) == 0:\n",
    "            return 0 \n",
    "        water = 0\n",
    "        lefth = 0\n",
    "        righth = max(height)\n",
    "        for i in range(1, len(height) - 1):\n",
    "            h = height[i]\n",
    "            if height[i - 1] > lefth:\n",
    "                lefth = height[i - 1]\n",
    "            if height[i - 1] == righth:\n",
    "                righth = max(height[i+1:])\n",
    "            water += max((min(lefth, righth) - h), 0)               \n",
    "        return water\n"
   ]
  },
  {
   "cell_type": "code",
   "execution_count": 2,
   "metadata": {},
   "outputs": [],
   "source": [
    "# 动态规划版本\n",
    "class Solution:\n",
    "    def trap(self, height):\n",
    "        \"\"\"\n",
    "        :type height: List[int]\n",
    "        :rtype: int\n",
    "        \"\"\"\n",
    "        left_max = [0 for i in range(len(height))]\n",
    "        right_max = list(left_max)\n",
    "        for i, h in enumerate(height):\n",
    "            if i == 0:\n",
    "                left_max[i] = height[i]\n",
    "                right_max[~i] = height[~i]\n",
    "            left_max[i] = max(left_max[i - 1], height[i])\n",
    "            right_max[~i] = max(right_max[~(i - 1)], height[~i])\n",
    "        water = 0\n",
    "        for i in range(len(height)):\n",
    "            water += max(0, min(left_max[i], right_max[i]) - height[i])\n",
    "        return water"
   ]
  },
  {
   "cell_type": "code",
   "execution_count": null,
   "metadata": {},
   "outputs": [],
   "source": [
    "class Solution:\n",
    "    def trap(self, height):\n",
    "        \"\"\"\n",
    "        :type height: List[int]\n",
    "        :rtype: int\n",
    "        \"\"\"\n",
    "        left, right = 0, len(height) - 1\n",
    "        left_max, right_max = 0, 0\n",
    "        water = 0\n",
    "        while left < right:\n",
    "            # 因为左右指针可以划定两边区域\n",
    "            if height[left] <= height[right]:\n",
    "                left_max = max(height[left], left_max)\n",
    "                # 注意这边的最小值都是取单边的，因为right_max, left_max在此并非全局\n",
    "                water += left_max- height[left]\n",
    "                left += 1\n",
    "            else:\n",
    "                right_max = max(height[right], right_max)\n",
    "                water += right_max - height[right]\n",
    "                right -= 1\n",
    "        return water"
   ]
  }
 ],
 "metadata": {
  "kernelspec": {
   "display_name": "Python 3",
   "language": "python",
   "name": "python3"
  },
  "language_info": {
   "codemirror_mode": {
    "name": "ipython",
    "version": 3
   },
   "file_extension": ".py",
   "mimetype": "text/x-python",
   "name": "python",
   "nbconvert_exporter": "python",
   "pygments_lexer": "ipython3",
   "version": "3.6.5"
  }
 },
 "nbformat": 4,
 "nbformat_minor": 2
}
