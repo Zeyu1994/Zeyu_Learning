{
 "cells": [
  {
   "cell_type": "markdown",
   "metadata": {},
   "source": [
    "[题目](https://leetcode.com/problems/k-closest-points-to-origin/): 找到list里离原点最近的K个点\n",
    "\n",
    "基本思路：\n",
    "1. min heapq, 创建O(N), 给出K个:O(KlogN)\n",
    "2. Divide and Conquer"
   ]
  },
  {
   "cell_type": "code",
   "execution_count": 2,
   "metadata": {},
   "outputs": [],
   "source": [
    "import heapq\n",
    "class Solution(object):\n",
    "    def kClosest(self, points, K):\n",
    "        \"\"\"\n",
    "        :type points: List[List[int]]\n",
    "        :type K: int\n",
    "        :rtype: List[List[int]]\n",
    "        \"\"\"\n",
    "        def d(point):\n",
    "            return point[0]**2 + point[1]**2\n",
    "        return heapq.nsmallest(K, points, key = d)   "
   ]
  },
  {
   "cell_type": "code",
   "execution_count": 3,
   "metadata": {},
   "outputs": [],
   "source": [
    "class Solution(object):\n",
    "    def kClosest(self, points, K):\n",
    "        dist = lambda i: points[i][0]**2 + points[i][1]**2\n",
    "\n",
    "        def sort(i, j, K):\n",
    "            # Partially sorts A[i:j+1] so the first K elements are\n",
    "            # the smallest K elements.\n",
    "            if i >= j: return\n",
    "\n",
    "            # Put random element as A[i] - this is the pivot\n",
    "            k = random.randint(i, j)\n",
    "            points[i], points[k] = points[k], points[i]\n",
    "\n",
    "            mid = partition(i, j)\n",
    "            if K < mid - i + 1:\n",
    "                sort(i, mid - 1, K)\n",
    "            elif K > mid - i + 1:\n",
    "                sort(mid + 1, j, K - (mid - i + 1))\n",
    "\n",
    "        def partition(i, j):\n",
    "            # Partition by pivot A[i], returning an index mid\n",
    "            # such that A[i] <= A[mid] <= A[j] for i < mid < j.\n",
    "            oi = i\n",
    "            pivot = dist(i)\n",
    "            i += 1\n",
    "\n",
    "            while True:\n",
    "                while i < j and dist(i) < pivot:\n",
    "                    i += 1\n",
    "                while i <= j and dist(j) >= pivot:\n",
    "                    j -= 1\n",
    "                if i >= j: break\n",
    "                points[i], points[j] = points[j], points[i]\n",
    "\n",
    "            points[oi], points[j] = points[j], points[oi]\n",
    "            return j\n",
    "\n",
    "        sort(0, len(points) - 1, K)\n",
    "        return points[:K]"
   ]
  },
  {
   "cell_type": "code",
   "execution_count": null,
   "metadata": {},
   "outputs": [],
   "source": []
  }
 ],
 "metadata": {
  "kernelspec": {
   "display_name": "Python 3",
   "language": "python",
   "name": "python3"
  },
  "language_info": {
   "codemirror_mode": {
    "name": "ipython",
    "version": 3
   },
   "file_extension": ".py",
   "mimetype": "text/x-python",
   "name": "python",
   "nbconvert_exporter": "python",
   "pygments_lexer": "ipython3",
   "version": "3.6.5"
  }
 },
 "nbformat": 4,
 "nbformat_minor": 2
}
