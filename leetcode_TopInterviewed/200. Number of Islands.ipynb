{
 "cells": [
  {
   "cell_type": "markdown",
   "metadata": {},
   "source": [
    "[题目](https://leetcode.com/problems/number-of-islands/): 给出2d数组里的岛数\n",
    "\n",
    "基本解法:\n",
    "* traversal each island by dfs(recursion) or bfs(queue) search\n"
   ]
  },
  {
   "cell_type": "code",
   "execution_count": null,
   "metadata": {},
   "outputs": [],
   "source": [
    "class Solution(object):\n",
    "    def numIslands(self, grid):\n",
    "        \"\"\"\n",
    "        :type grid: List[List[str]]\n",
    "        :rtype: int\n",
    "        \"\"\"\n",
    "        # time: O(nm) space: O(mn) if grid is filled with lands\n",
    "        num = 2\n",
    "        def visit(grid, i, j, num):\n",
    "            if  i >= len(grid) or i < 0 or j >= len(grid[0]) or j < 0 or grid[i][j] != '1':\n",
    "                return\n",
    "            grid[i][j] = 'num'\n",
    "            visit(grid, i + 1, j, num)\n",
    "            visit(grid, i - 1, j, num)\n",
    "            visit(grid, i, j - 1, num)\n",
    "            visit(grid, i, j + 1, num)\n",
    "                \n",
    "            \n",
    "            \n",
    "        # if substitute the number, it will be better\n",
    "        for i, row in enumerate(grid):\n",
    "            for j, val in enumerate(row):\n",
    "                if val == '1':\n",
    "                    visit(grid, i, j, num)\n",
    "                   # print(grid)\n",
    "                    num += 1\n",
    "        if num == 2:\n",
    "            return 0\n",
    "        return num - 2 "
   ]
  }
 ],
 "metadata": {
  "kernelspec": {
   "display_name": "Python 3",
   "language": "python",
   "name": "python3"
  },
  "language_info": {
   "codemirror_mode": {
    "name": "ipython",
    "version": 3
   },
   "file_extension": ".py",
   "mimetype": "text/x-python",
   "name": "python",
   "nbconvert_exporter": "python",
   "pygments_lexer": "ipython3",
   "version": "3.6.5"
  }
 },
 "nbformat": 4,
 "nbformat_minor": 2
}
