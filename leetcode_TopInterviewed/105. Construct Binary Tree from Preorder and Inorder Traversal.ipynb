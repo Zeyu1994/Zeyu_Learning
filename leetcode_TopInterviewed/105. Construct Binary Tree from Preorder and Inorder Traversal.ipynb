{
 "cells": [
  {
   "cell_type": "markdown",
   "metadata": {},
   "source": [
    "题目: 用前序和中序数列来复原树\n",
    "\n",
    "* 注，3种顺序，本质上都是dfs，只是访问顺序不一样:\n",
    "    * 前序遍历(Pre-Order Traversal): 指先访问根，然后访问子树的遍历方式\n",
    "    * 中序遍历(In-Order Traversal): 指先访问左（右）子树，然后访问根，最后访问右（左）子树的遍历方式\n",
    "    * 后序遍历(Post-Order Traversal): 指先访问子树，然后访问根的遍历方式\n",
    "\n",
    "基本思路:\n",
    "* 因为preorder是先root->左->右，而inorder是左->root->右，所以能够\n",
    "    1. 通过preorder确定root\n",
    "    2. inorder分开左右"
   ]
  },
  {
   "cell_type": "code",
   "execution_count": null,
   "metadata": {},
   "outputs": [],
   "source": [
    "def buildTree(self, preorder, inorder):\n",
    "    # 如果inoder为空，则表示是leaf了\n",
    "    if inorder:\n",
    "        # 把list用作queue\n",
    "        ind = inorder.index(preorder.pop(0))\n",
    "        root = TreeNode(inorder[ind])\n",
    "        root.left = self.buildTree(preorder, inorder[0:ind])\n",
    "        root.right = self.buildTree(preorder, inorder[ind+1:])\n",
    "        return root"
   ]
  }
 ],
 "metadata": {
  "kernelspec": {
   "display_name": "Python 3",
   "language": "python",
   "name": "python3"
  },
  "language_info": {
   "codemirror_mode": {
    "name": "ipython",
    "version": 3
   },
   "file_extension": ".py",
   "mimetype": "text/x-python",
   "name": "python",
   "nbconvert_exporter": "python",
   "pygments_lexer": "ipython3",
   "version": "3.6.5"
  }
 },
 "nbformat": 4,
 "nbformat_minor": 2
}
