{
 "cells": [
  {
   "cell_type": "markdown",
   "metadata": {},
   "source": [
    "题目: 给一个数组，返回记录每个数按循环顺序下一个更大的值\n",
    "\n",
    "基本思路:\n",
    "* 这是对于单调栈(mono stack)的基本应用\n",
    "* 用双循环满足循环结构\n",
    "* 对于单调栈:\n",
    "    * stack用于记录index，且在栈内一直保持从小到大的顺序\n",
    "    * 如果栈不为空，且栈顶的小于当前值，那么就直接pop\n",
    "    * 本质上，我只要维护一个单调栈，只在每次碰到\"较大\"的数时，更新一下就好。"
   ]
  },
  {
   "cell_type": "code",
   "execution_count": null,
   "metadata": {},
   "outputs": [],
   "source": [
    "class Solution:\n",
    "    '''\n",
    "    I think the description of approach#3 is not straight forward \n",
    "    for understanding as it focuses more on the implementation not \n",
    "    the way of thinking. Actually, if the idea is described clearly, \n",
    "    I think most of the people can easily come up with the same implementation. \n",
    "    The key of approach#3 is that when we are trying to find the next \n",
    "    greater number for the ith number and num[i] >= num[i+1], what do \n",
    "    we do next? In the brute force way, we will go on to check num[i+2], num[i+3]... \n",
    "    and there is much redundant work here. \n",
    "    The better way is to check the next greater number of num[i+1]. \n",
    "    If the next greater number of num[i+1] is still not greater than num[i], g\n",
    "    o on to check its next greater number. \n",
    "    With this idea, we can easily come up with an algorithm which is the same as approach#3.\n",
    "    '''\n",
    "    def nextGreaterElements(self, nums: List[int]) -> List[int]:\n",
    "        stack, res = [], [-1] * len(nums)\n",
    "        for _ in range(2):\n",
    "            for i in range(len(nums)):\n",
    "                # 如果stack为空，则直接添加\n",
    "                # 如果stack不空，且stack的top的index的数字小于现在index的数字，\n",
    "                # 那么stack顶的index的greater值为现在值\n",
    "                # 如果是descend的形式的话，比如[5,4,3,2,6]，那么stack = [0, 1, 2, 3, 4]， 然后再一次性pop\n",
    "                # [5, 4, 6, 8], stack = [0, 1] ->[] ->[2] ->[8]\n",
    "                # stack内总是保持单调的，因此称作单调栈\n",
    "                while stack and (nums[stack[-1]] < nums[i]):\n",
    "                    res[stack.pop()] = nums[i]\n",
    "                stack.append(i)\n",
    "        return res\n",
    "        "
   ]
  }
 ],
 "metadata": {
  "kernelspec": {
   "display_name": "Python 3",
   "language": "python",
   "name": "python3"
  },
  "language_info": {
   "codemirror_mode": {
    "name": "ipython",
    "version": 3
   },
   "file_extension": ".py",
   "mimetype": "text/x-python",
   "name": "python",
   "nbconvert_exporter": "python",
   "pygments_lexer": "ipython3",
   "version": "3.6.5"
  }
 },
 "nbformat": 4,
 "nbformat_minor": 2
}
