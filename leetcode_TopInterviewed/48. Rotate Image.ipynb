{
 "cells": [
  {
   "cell_type": "markdown",
   "metadata": {},
   "source": [
    "题目: 旋转一个matrix 90度\n",
    "\n",
    "基本思路:\n",
    "1. n表示matrix长度\n",
    "2. 迭代坐标是0, 1, ..., n//2 & 0, 1, ..., n-n//2\n",
    "    * 只要选取几个不对称的值进行返转\n",
    "    * n = 5时， (0, 1, 2) & (0 , 1, 2, 3)。\n",
    "    "
   ]
  },
  {
   "cell_type": "markdown",
   "metadata": {},
   "source": [
    "注：<br>\n",
    "~j 是按位取反， ~0 = -1, ~-2 = 1, ~1 = -2\n",
    "<br>\n",
    "(在正常规则中，取反减1, 是符合代码的取反，比如**list第一位是list[0], 最后一位是list[-1]**)\n",
    "<br>\n",
    "～i是一个很好的 n-i-1 的表达"
   ]
  },
  {
   "cell_type": "code",
   "execution_count": 20,
   "metadata": {},
   "outputs": [],
   "source": [
    "class Solution:\n",
    "    def rotate(self, A):\n",
    "        n = len(A)\n",
    "        for i in range(n//2):\n",
    "            for j in range(n-n//2):\n",
    "                A[i][j], A[~j][i], A[~i][~j], A[j][~i] = \\\n",
    "                         A[~j][i], A[~i][~j], A[j][~i], A[i][j]"
   ]
  },
  {
   "cell_type": "code",
   "execution_count": 1,
   "metadata": {},
   "outputs": [],
   "source": [
    "class Solution:\n",
    "    def rotate(self, A):\n",
    "        n = len(A)\n",
    "        for i in range(n):\n",
    "            for j in range(i):\n",
    "                A[i][j], A[j][i] = A[j][i], A[i][j]\n",
    "        for row in A:\n",
    "            for j in range(n//2):\n",
    "                row[j], row[~j] = row[~j], row[j]"
   ]
  },
  {
   "cell_type": "code",
   "execution_count": 21,
   "metadata": {},
   "outputs": [],
   "source": [
    "A = [\n",
    "  [ 5, 1, 9,11],\n",
    "  [ 2, 4, 8,10],\n",
    "  [13, 3, 6, 7],\n",
    "  [15,14,12,16]\n",
    "] "
   ]
  },
  {
   "cell_type": "code",
   "execution_count": 22,
   "metadata": {},
   "outputs": [
    {
     "name": "stdout",
     "output_type": "stream",
     "text": [
      "0 0\n",
      "0 1\n",
      "1 0\n",
      "1 1\n"
     ]
    }
   ],
   "source": [
    "n = len(A)\n",
    "for i in range(n//2):\n",
    "    for j in range(n-n//2):\n",
    "        print(i, j)\n",
    "        A[i][j], A[~j][i], A[~i][~j], A[j][~i] = \\\n",
    "                 A[~j][i], A[~i][~j], A[j][~i], A[i][j]"
   ]
  },
  {
   "cell_type": "code",
   "execution_count": 23,
   "metadata": {},
   "outputs": [
    {
     "data": {
      "text/plain": [
       "[[15, 13, 2, 5], [14, 3, 4, 1], [12, 6, 8, 9], [16, 7, 10, 11]]"
      ]
     },
     "execution_count": 23,
     "metadata": {},
     "output_type": "execute_result"
    }
   ],
   "source": [
    "A"
   ]
  },
  {
   "cell_type": "code",
   "execution_count": null,
   "metadata": {},
   "outputs": [],
   "source": []
  }
 ],
 "metadata": {
  "kernelspec": {
   "display_name": "Python 3",
   "language": "python",
   "name": "python3"
  },
  "language_info": {
   "codemirror_mode": {
    "name": "ipython",
    "version": 3
   },
   "file_extension": ".py",
   "mimetype": "text/x-python",
   "name": "python",
   "nbconvert_exporter": "python",
   "pygments_lexer": "ipython3",
   "version": "3.6.5"
  }
 },
 "nbformat": 4,
 "nbformat_minor": 2
}
