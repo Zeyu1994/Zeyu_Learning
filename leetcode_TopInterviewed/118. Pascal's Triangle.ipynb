{
 "cells": [
  {
   "cell_type": "markdown",
   "metadata": {},
   "source": [
    "题目: Given a non-negative integer numRows, generate the first numRows of Pascal's triangle.\n",
    " \n",
    "基本思路: \n",
    "* 直接迭代构建(动态规划)"
   ]
  },
  {
   "cell_type": "code",
   "execution_count": null,
   "metadata": {},
   "outputs": [],
   "source": [
    "class Solution:\n",
    "    def generate(self, numRows: int) -> List[List[int]]:\n",
    "        ans = []\n",
    "        for n in range(numRows):\n",
    "            # 跳过边界的情况\n",
    "            ans.append([1])\n",
    "            for i in range(1, n + 1):\n",
    "                if i == n:\n",
    "                    ans[-1].append(1)\n",
    "                    continue\n",
    "                num = ans[-2][i - 1] + ans[-2][i]\n",
    "                ans[-1].append(num)\n",
    "        return ans"
   ]
  },
  {
   "cell_type": "code",
   "execution_count": 3,
   "metadata": {},
   "outputs": [
    {
     "data": {
      "text/plain": [
       "[None]"
      ]
     },
     "execution_count": 3,
     "metadata": {},
     "output_type": "execute_result"
    }
   ],
   "source": [
    "row =  [None for i in range(1)]\n",
    "row"
   ]
  },
  {
   "cell_type": "code",
   "execution_count": null,
   "metadata": {},
   "outputs": [],
   "source": [
    "# 更好的解法，直接就划分好区域\n",
    "class Solution:\n",
    "    def generate(self, num_rows):\n",
    "        triangle = []\n",
    "\n",
    "        for row_num in range(num_rows):\n",
    "            # The first and last row elements are always 1.\n",
    "            row = [None for _ in range(row_num+1)]\n",
    "            row[0], row[-1] = 1, 1\n",
    "\n",
    "            # Each triangle element is equal to the sum of the elements\n",
    "            # above-and-to-the-left and above-and-to-the-right.\n",
    "            for j in range(1, len(row)-1):\n",
    "                row[j] = triangle[row_num-1][j-1] + triangle[row_num-1][j]\n",
    "\n",
    "            triangle.append(row)\n",
    "\n",
    "        return triangle"
   ]
  }
 ],
 "metadata": {
  "kernelspec": {
   "display_name": "Python 3",
   "language": "python",
   "name": "python3"
  },
  "language_info": {
   "codemirror_mode": {
    "name": "ipython",
    "version": 3
   },
   "file_extension": ".py",
   "mimetype": "text/x-python",
   "name": "python",
   "nbconvert_exporter": "python",
   "pygments_lexer": "ipython3",
   "version": "3.6.5"
  }
 },
 "nbformat": 4,
 "nbformat_minor": 2
}
