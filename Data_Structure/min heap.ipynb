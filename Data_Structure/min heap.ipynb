{
 "cells": [
  {
   "cell_type": "markdown",
   "metadata": {},
   "source": [
    "* Create: O(N)\n",
    "* Find min/max: O(1)\n",
    "* insert/delete: O(logN)\n",
    "* largest/smallest K in N: O(KlogN) + O(N) <= O(NlogN)\n",
    "\n",
    "Problems solved:\n",
    "\n",
    "[973. K Closest Points to Origin](https://leetcode.com/problems/k-closest-points-to-origin/)\n",
    "``` python \n",
    "import heapq\n",
    "class Solution(object):\n",
    "    def kClosest(self, points, K):\n",
    "        \"\"\"\n",
    "        :type points: List[List[int]]\n",
    "        :type K: int\n",
    "        :rtype: List[List[int]]\n",
    "        \"\"\"\n",
    "        def d(point):\n",
    "            return point[0]**2 + point[1]**2\n",
    "        return heapq.nsmallest(K, points, key = d)       \n",
    "```\n",
    "\n",
    "[253. Meeting Rooms II](https://leetcode.com/problems/meeting-rooms-ii/)\n",
    "```python\n",
    "import heapq\n",
    "class Solution(object):\n",
    "    def minMeetingRooms(self, intervals):\n",
    "        \"\"\"\n",
    "        :type intervals: List[List[int]]\n",
    "        :rtype: int\n",
    "        \"\"\"\n",
    "        if not intervals:\n",
    "            return 0\n",
    "        # use min heap where key is ending time of the meeting\n",
    "        intervals.sort(key = lambda x: x[0])\n",
    "        # lambda 是匿名函数, 这里的key是一个输入迭代对象返回key的function  \n",
    "        free_room = []\n",
    "        heapq.heappush(free_room, intervals.pop(0)[1])\n",
    "        for i in intervals:\n",
    "            if free_room[0] <= i[0]:\n",
    "                heapq.heappop(free_room)\n",
    "            heapq.heappush(free_room, i[1])\n",
    "        return len(free_room)\n",
    "```\n"
   ]
  },
  {
   "cell_type": "code",
   "execution_count": null,
   "metadata": {},
   "outputs": [],
   "source": []
  }
 ],
 "metadata": {
  "kernelspec": {
   "display_name": "Python 3",
   "language": "python",
   "name": "python3"
  },
  "language_info": {
   "codemirror_mode": {
    "name": "ipython",
    "version": 3
   },
   "file_extension": ".py",
   "mimetype": "text/x-python",
   "name": "python",
   "nbconvert_exporter": "python",
   "pygments_lexer": "ipython3",
   "version": "3.6.5"
  }
 },
 "nbformat": 4,
 "nbformat_minor": 2
}
